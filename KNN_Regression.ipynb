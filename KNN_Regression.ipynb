{
  "cells": [
    {
      "cell_type": "code",
      "execution_count": 9,
      "metadata": {
        "id": "UBWxWsw0pFpO"
      },
      "outputs": [],
      "source": [
        "# Supress Warnings\n",
        "import warnings\n",
        "warnings.filterwarnings('ignore')\n",
        "\n",
        "# Import the numpy\n",
        "import numpy as np\n",
        "\n",
        "# Import the Pandas\n",
        "import pandas as pd\n",
        "\n",
        "# Data visualization\n",
        "import matplotlib.pyplot as plt\n",
        "import seaborn as sns"
      ]
    },
    {
      "cell_type": "code",
      "execution_count": 10,
      "metadata": {
        "id": "-koKZwrCpL5F"
      },
      "outputs": [],
      "source": [
        "from sklearn.model_selection import train_test_split\n",
        "# Split the data into training and Test Data\n",
        "from sklearn.linear_model import LinearRegression\n",
        "from sklearn.neighbors import KNeighborsRegressor"
      ]
    },
    {
      "cell_type": "code",
      "execution_count": 11,
      "metadata": {
        "id": "4rUt1NOtppA4"
      },
      "outputs": [],
      "source": [
        "from sklearn.metrics import mean_squared_error\n",
        "#Going to use mean squared error method\n",
        "from sklearn.metrics import r2_score"
      ]
    },
    {
      "cell_type": "code",
      "execution_count": 12,
      "metadata": {
        "id": "YIH0aSCMpzGG"
      },
      "outputs": [],
      "source": [
        "advertising = pd.DataFrame(pd.read_csv('datasets/advertising for LR.csv'))"
      ]
    },
    {
      "cell_type": "code",
      "execution_count": 13,
      "metadata": {
        "colab": {
          "base_uri": "https://localhost:8080/",
          "height": 206
        },
        "id": "F633_K6kp9J-",
        "outputId": "6bf39e94-652c-4e37-b0e8-3776472c5061"
      },
      "outputs": [
        {
          "data": {
            "text/html": [
              "<div>\n",
              "<style scoped>\n",
              "    .dataframe tbody tr th:only-of-type {\n",
              "        vertical-align: middle;\n",
              "    }\n",
              "\n",
              "    .dataframe tbody tr th {\n",
              "        vertical-align: top;\n",
              "    }\n",
              "\n",
              "    .dataframe thead th {\n",
              "        text-align: right;\n",
              "    }\n",
              "</style>\n",
              "<table border=\"1\" class=\"dataframe\">\n",
              "  <thead>\n",
              "    <tr style=\"text-align: right;\">\n",
              "      <th></th>\n",
              "      <th>TV</th>\n",
              "      <th>Radio</th>\n",
              "      <th>Newspaper</th>\n",
              "      <th>Sales</th>\n",
              "    </tr>\n",
              "  </thead>\n",
              "  <tbody>\n",
              "    <tr>\n",
              "      <th>0</th>\n",
              "      <td>230.1</td>\n",
              "      <td>37.8</td>\n",
              "      <td>69.2</td>\n",
              "      <td>22.1</td>\n",
              "    </tr>\n",
              "    <tr>\n",
              "      <th>1</th>\n",
              "      <td>44.5</td>\n",
              "      <td>39.3</td>\n",
              "      <td>45.1</td>\n",
              "      <td>10.4</td>\n",
              "    </tr>\n",
              "    <tr>\n",
              "      <th>2</th>\n",
              "      <td>17.2</td>\n",
              "      <td>45.9</td>\n",
              "      <td>69.3</td>\n",
              "      <td>12.0</td>\n",
              "    </tr>\n",
              "    <tr>\n",
              "      <th>3</th>\n",
              "      <td>151.5</td>\n",
              "      <td>41.3</td>\n",
              "      <td>58.5</td>\n",
              "      <td>16.5</td>\n",
              "    </tr>\n",
              "    <tr>\n",
              "      <th>4</th>\n",
              "      <td>180.8</td>\n",
              "      <td>10.8</td>\n",
              "      <td>58.4</td>\n",
              "      <td>17.9</td>\n",
              "    </tr>\n",
              "  </tbody>\n",
              "</table>\n",
              "</div>"
            ],
            "text/plain": [
              "      TV  Radio  Newspaper  Sales\n",
              "0  230.1   37.8       69.2   22.1\n",
              "1   44.5   39.3       45.1   10.4\n",
              "2   17.2   45.9       69.3   12.0\n",
              "3  151.5   41.3       58.5   16.5\n",
              "4  180.8   10.8       58.4   17.9"
            ]
          },
          "execution_count": 13,
          "metadata": {},
          "output_type": "execute_result"
        }
      ],
      "source": [
        "advertising.head()"
      ]
    },
    {
      "cell_type": "code",
      "execution_count": 14,
      "metadata": {
        "colab": {
          "base_uri": "https://localhost:8080/",
          "height": 206
        },
        "id": "MI-LlVHFqbLD",
        "outputId": "a6178dfc-05be-44d9-9ccd-5ccb6c501547"
      },
      "outputs": [
        {
          "data": {
            "text/html": [
              "<div>\n",
              "<style scoped>\n",
              "    .dataframe tbody tr th:only-of-type {\n",
              "        vertical-align: middle;\n",
              "    }\n",
              "\n",
              "    .dataframe tbody tr th {\n",
              "        vertical-align: top;\n",
              "    }\n",
              "\n",
              "    .dataframe thead th {\n",
              "        text-align: right;\n",
              "    }\n",
              "</style>\n",
              "<table border=\"1\" class=\"dataframe\">\n",
              "  <thead>\n",
              "    <tr style=\"text-align: right;\">\n",
              "      <th></th>\n",
              "      <th>TV</th>\n",
              "      <th>Radio</th>\n",
              "      <th>Newspaper</th>\n",
              "      <th>Sales</th>\n",
              "    </tr>\n",
              "  </thead>\n",
              "  <tbody>\n",
              "    <tr>\n",
              "      <th>195</th>\n",
              "      <td>38.2</td>\n",
              "      <td>3.7</td>\n",
              "      <td>13.8</td>\n",
              "      <td>7.6</td>\n",
              "    </tr>\n",
              "    <tr>\n",
              "      <th>196</th>\n",
              "      <td>94.2</td>\n",
              "      <td>4.9</td>\n",
              "      <td>8.1</td>\n",
              "      <td>14.0</td>\n",
              "    </tr>\n",
              "    <tr>\n",
              "      <th>197</th>\n",
              "      <td>177.0</td>\n",
              "      <td>9.3</td>\n",
              "      <td>6.4</td>\n",
              "      <td>14.8</td>\n",
              "    </tr>\n",
              "    <tr>\n",
              "      <th>198</th>\n",
              "      <td>283.6</td>\n",
              "      <td>42.0</td>\n",
              "      <td>66.2</td>\n",
              "      <td>25.5</td>\n",
              "    </tr>\n",
              "    <tr>\n",
              "      <th>199</th>\n",
              "      <td>232.1</td>\n",
              "      <td>8.6</td>\n",
              "      <td>8.7</td>\n",
              "      <td>18.4</td>\n",
              "    </tr>\n",
              "  </tbody>\n",
              "</table>\n",
              "</div>"
            ],
            "text/plain": [
              "        TV  Radio  Newspaper  Sales\n",
              "195   38.2    3.7       13.8    7.6\n",
              "196   94.2    4.9        8.1   14.0\n",
              "197  177.0    9.3        6.4   14.8\n",
              "198  283.6   42.0       66.2   25.5\n",
              "199  232.1    8.6        8.7   18.4"
            ]
          },
          "execution_count": 14,
          "metadata": {},
          "output_type": "execute_result"
        }
      ],
      "source": [
        "advertising.tail()"
      ]
    },
    {
      "cell_type": "markdown",
      "metadata": {
        "id": "xT7MtTnmqhbu"
      },
      "source": [
        "# **Data Inspection**"
      ]
    },
    {
      "cell_type": "markdown",
      "metadata": {
        "id": "iim7SEZgqlIN"
      },
      "source": [
        "Data inspection referes to the process of examing data sets to ensure are they meet specific quality criteria and to identify any patterns, anomalies or issues that need to be addressed."
      ]
    },
    {
      "cell_type": "code",
      "execution_count": 15,
      "metadata": {
        "colab": {
          "base_uri": "https://localhost:8080/"
        },
        "id": "chmOMPfMqgSZ",
        "outputId": "bce48da7-fc13-40e5-e618-00baa08dca9f"
      },
      "outputs": [
        {
          "data": {
            "text/plain": [
              "(200, 4)"
            ]
          },
          "execution_count": 15,
          "metadata": {},
          "output_type": "execute_result"
        }
      ],
      "source": [
        "advertising.shape"
      ]
    },
    {
      "cell_type": "code",
      "execution_count": 16,
      "metadata": {
        "colab": {
          "base_uri": "https://localhost:8080/"
        },
        "id": "L0h4Lql8q8PU",
        "outputId": "087171fc-0f97-4aa9-e791-94e923bfe841"
      },
      "outputs": [
        {
          "name": "stdout",
          "output_type": "stream",
          "text": [
            "<class 'pandas.core.frame.DataFrame'>\n",
            "RangeIndex: 200 entries, 0 to 199\n",
            "Data columns (total 4 columns):\n",
            " #   Column     Non-Null Count  Dtype  \n",
            "---  ------     --------------  -----  \n",
            " 0   TV         200 non-null    float64\n",
            " 1   Radio      200 non-null    float64\n",
            " 2   Newspaper  200 non-null    float64\n",
            " 3   Sales      200 non-null    float64\n",
            "dtypes: float64(4)\n",
            "memory usage: 6.4 KB\n"
          ]
        }
      ],
      "source": [
        "advertising.info()"
      ]
    },
    {
      "cell_type": "code",
      "execution_count": 17,
      "metadata": {
        "colab": {
          "base_uri": "https://localhost:8080/",
          "height": 300
        },
        "id": "nM9Z_4KLq_AS",
        "outputId": "0e44f6f1-f80b-4e46-b1b5-861c6884c8d2"
      },
      "outputs": [
        {
          "data": {
            "text/html": [
              "<div>\n",
              "<style scoped>\n",
              "    .dataframe tbody tr th:only-of-type {\n",
              "        vertical-align: middle;\n",
              "    }\n",
              "\n",
              "    .dataframe tbody tr th {\n",
              "        vertical-align: top;\n",
              "    }\n",
              "\n",
              "    .dataframe thead th {\n",
              "        text-align: right;\n",
              "    }\n",
              "</style>\n",
              "<table border=\"1\" class=\"dataframe\">\n",
              "  <thead>\n",
              "    <tr style=\"text-align: right;\">\n",
              "      <th></th>\n",
              "      <th>TV</th>\n",
              "      <th>Radio</th>\n",
              "      <th>Newspaper</th>\n",
              "      <th>Sales</th>\n",
              "    </tr>\n",
              "  </thead>\n",
              "  <tbody>\n",
              "    <tr>\n",
              "      <th>count</th>\n",
              "      <td>200.000000</td>\n",
              "      <td>200.000000</td>\n",
              "      <td>200.000000</td>\n",
              "      <td>200.000000</td>\n",
              "    </tr>\n",
              "    <tr>\n",
              "      <th>mean</th>\n",
              "      <td>147.042500</td>\n",
              "      <td>23.264000</td>\n",
              "      <td>30.554000</td>\n",
              "      <td>15.130500</td>\n",
              "    </tr>\n",
              "    <tr>\n",
              "      <th>std</th>\n",
              "      <td>85.854236</td>\n",
              "      <td>14.846809</td>\n",
              "      <td>21.778621</td>\n",
              "      <td>5.283892</td>\n",
              "    </tr>\n",
              "    <tr>\n",
              "      <th>min</th>\n",
              "      <td>0.700000</td>\n",
              "      <td>0.000000</td>\n",
              "      <td>0.300000</td>\n",
              "      <td>1.600000</td>\n",
              "    </tr>\n",
              "    <tr>\n",
              "      <th>25%</th>\n",
              "      <td>74.375000</td>\n",
              "      <td>9.975000</td>\n",
              "      <td>12.750000</td>\n",
              "      <td>11.000000</td>\n",
              "    </tr>\n",
              "    <tr>\n",
              "      <th>50%</th>\n",
              "      <td>149.750000</td>\n",
              "      <td>22.900000</td>\n",
              "      <td>25.750000</td>\n",
              "      <td>16.000000</td>\n",
              "    </tr>\n",
              "    <tr>\n",
              "      <th>75%</th>\n",
              "      <td>218.825000</td>\n",
              "      <td>36.525000</td>\n",
              "      <td>45.100000</td>\n",
              "      <td>19.050000</td>\n",
              "    </tr>\n",
              "    <tr>\n",
              "      <th>max</th>\n",
              "      <td>296.400000</td>\n",
              "      <td>49.600000</td>\n",
              "      <td>114.000000</td>\n",
              "      <td>27.000000</td>\n",
              "    </tr>\n",
              "  </tbody>\n",
              "</table>\n",
              "</div>"
            ],
            "text/plain": [
              "               TV       Radio   Newspaper       Sales\n",
              "count  200.000000  200.000000  200.000000  200.000000\n",
              "mean   147.042500   23.264000   30.554000   15.130500\n",
              "std     85.854236   14.846809   21.778621    5.283892\n",
              "min      0.700000    0.000000    0.300000    1.600000\n",
              "25%     74.375000    9.975000   12.750000   11.000000\n",
              "50%    149.750000   22.900000   25.750000   16.000000\n",
              "75%    218.825000   36.525000   45.100000   19.050000\n",
              "max    296.400000   49.600000  114.000000   27.000000"
            ]
          },
          "execution_count": 17,
          "metadata": {},
          "output_type": "execute_result"
        }
      ],
      "source": [
        "advertising.describe()"
      ]
    },
    {
      "cell_type": "markdown",
      "metadata": {
        "id": "mC1UTGeGsiTu"
      },
      "source": [
        "# **Data cleaning**"
      ]
    },
    {
      "cell_type": "code",
      "execution_count": 18,
      "metadata": {
        "colab": {
          "base_uri": "https://localhost:8080/",
          "height": 209
        },
        "id": "gU0-zm-7r9Xl",
        "outputId": "bc13323b-d96a-4d26-f1b0-76b588075a8f"
      },
      "outputs": [
        {
          "data": {
            "text/plain": [
              "TV           0.0\n",
              "Radio        0.0\n",
              "Newspaper    0.0\n",
              "Sales        0.0\n",
              "dtype: float64"
            ]
          },
          "execution_count": 18,
          "metadata": {},
          "output_type": "execute_result"
        }
      ],
      "source": [
        "# checking null values and present them as a precentage\n",
        "advertising.isnull().sum()*100/advertising.shape[0]\n",
        "# There are no null values in the dataset, hence it is clean."
      ]
    },
    {
      "cell_type": "markdown",
      "metadata": {
        "id": "WJ9vsUcTtdfw"
      },
      "source": [
        "**Outlier analysis**"
      ]
    },
    {
      "cell_type": "markdown",
      "metadata": {
        "id": "ICkvdldithSg"
      },
      "source": [
        "Outlier are data points that differ significantly from other observation in a dataset."
      ]
    },
    {
      "cell_type": "code",
      "execution_count": 19,
      "metadata": {
        "colab": {
          "base_uri": "https://localhost:8080/",
          "height": 506
        },
        "id": "HM9QaPPls3Jq",
        "outputId": "a012a515-0047-47b0-cb06-60c3d386465c"
      },
      "outputs": [
        {
          "data": {
            "image/png": "[encoded data removed]",
            "text/plain": [
              "<Figure size 500x500 with 3 Axes>"
            ]
          },
          "metadata": {},
          "output_type": "display_data"
        }
      ],
      "source": [
        "# Outlier analysis\n",
        "fig, axs = plt.subplots(3, figsize = (5,5))\n",
        "plt1 = sns.boxplot(advertising['TV'], ax = axs[0])\n",
        "plt2 = sns.boxplot(advertising['Radio'], ax = axs[1])\n",
        "plt3 = sns.boxplot(advertising['Newspaper'], ax = axs[2])\n",
        "plt.tight_layout()\n",
        "# automatically adjust the spacing between subplots to ensure that they\n",
        "# fit within the figure area and don't overlap"
      ]
    },
    {
      "cell_type": "code",
      "execution_count": 20,
      "metadata": {
        "colab": {
          "base_uri": "https://localhost:8080/",
          "height": 242
        },
        "id": "tU3-Nck1uOIn",
        "outputId": "63fe793f-4bbf-4309-b694-f51c2819c407"
      },
      "outputs": [
        {
          "data": {
            "image/png": "[encoded data removed]",
            "text/plain": [
              "<Figure size 1200x400 with 3 Axes>"
            ]
          },
          "metadata": {},
          "output_type": "display_data"
        }
      ],
      "source": [
        "# Let's see how sales are related with other variables using scatter plot.\n",
        "sns.pairplot(advertising, x_vars=['TV', 'Radio', 'Newspaper'],\n",
        "             y_vars='Sales', height=4, aspect=1, kind='scatter')\n",
        "plt.show()"
      ]
    },
    {
      "cell_type": "code",
      "execution_count": 21,
      "metadata": {
        "colab": {
          "base_uri": "https://localhost:8080/",
          "height": 435
        },
        "id": "K2bZWs4zvhQd",
        "outputId": "78e17592-6b4e-4da1-8524-e45caaffb7f0"
      },
      "outputs": [
        {
          "data": {
            "image/png": "[encoded data removed]",
            "text/plain": [
              "<Figure size 640x480 with 2 Axes>"
            ]
          },
          "metadata": {},
          "output_type": "display_data"
        }
      ],
      "source": [
        "# Let's see the correlation between different variables\n",
        "sns.heatmap(advertising.corr(), cmap=\"YlGnBu\", annot = True)\n",
        "plt.show()"
      ]
    },
    {
      "cell_type": "markdown",
      "metadata": {
        "id": "-RjD5YrIw56V"
      },
      "source": [
        "**Selecting data for dependant and Independant Variable**"
      ]
    },
    {
      "cell_type": "code",
      "execution_count": 22,
      "metadata": {
        "id": "GH7NglniwzxW"
      },
      "outputs": [],
      "source": [
        "# x = advertising[['TV', 'Radio', 'Newspaper']]\n",
        "# x = advertising.drop(['Sales'], axis=1)\n",
        "y = advertising['Sales']"
      ]
    },
    {
      "cell_type": "code",
      "execution_count": 23,
      "metadata": {
        "id": "7dJYDXvYxfw6"
      },
      "outputs": [],
      "source": [
        "x = advertising.iloc[:, :3] # we are selecting upto 3rd column for x. That means column 0,1,2\n",
        "y = advertising.iloc[:, 3] # we are selecting the 3rd column only and all the rows of 3rd column"
      ]
    },
    {
      "cell_type": "code",
      "execution_count": 24,
      "metadata": {
        "colab": {
          "base_uri": "https://localhost:8080/"
        },
        "id": "n7zXoQknzXUv",
        "outputId": "357e0087-ca90-4abd-808c-a36599ede162"
      },
      "outputs": [
        {
          "name": "stdout",
          "output_type": "stream",
          "text": [
            "        TV  Radio  Newspaper\n",
            "0    230.1   37.8       69.2\n",
            "1     44.5   39.3       45.1\n",
            "2     17.2   45.9       69.3\n",
            "3    151.5   41.3       58.5\n",
            "4    180.8   10.8       58.4\n",
            "..     ...    ...        ...\n",
            "195   38.2    3.7       13.8\n",
            "196   94.2    4.9        8.1\n",
            "197  177.0    9.3        6.4\n",
            "198  283.6   42.0       66.2\n",
            "199  232.1    8.6        8.7\n",
            "\n",
            "[200 rows x 3 columns]\n"
          ]
        }
      ],
      "source": [
        "print(x)"
      ]
    },
    {
      "cell_type": "code",
      "execution_count": 25,
      "metadata": {
        "colab": {
          "base_uri": "https://localhost:8080/"
        },
        "id": "PPSzDuk6zcmk",
        "outputId": "ae3b33c0-541d-4c6f-fde1-e0768c894dcb"
      },
      "outputs": [
        {
          "name": "stdout",
          "output_type": "stream",
          "text": [
            "0      22.1\n",
            "1      10.4\n",
            "2      12.0\n",
            "3      16.5\n",
            "4      17.9\n",
            "       ... \n",
            "195     7.6\n",
            "196    14.0\n",
            "197    14.8\n",
            "198    25.5\n",
            "199    18.4\n",
            "Name: Sales, Length: 200, dtype: float64\n"
          ]
        }
      ],
      "source": [
        "print(y)"
      ]
    },
    {
      "cell_type": "code",
      "execution_count": 26,
      "metadata": {
        "id": "ObcXiUKEzeKm"
      },
      "outputs": [],
      "source": [
        "x = advertising.iloc[:, :3].values\n",
        "y = advertising.iloc[:, 3].values # convert data frame into array"
      ]
    },
    {
      "cell_type": "code",
      "execution_count": 27,
      "metadata": {
        "colab": {
          "base_uri": "https://localhost:8080/"
        },
        "id": "Z-p0eOBVzspZ",
        "outputId": "05ceb292-5780-4d9a-ed3a-038abfdc7d2b"
      },
      "outputs": [
        {
          "data": {
            "text/plain": [
              "array([[230.1,  37.8,  69.2],\n",
              "       [ 44.5,  39.3,  45.1],\n",
              "       [ 17.2,  45.9,  69.3],\n",
              "       [151.5,  41.3,  58.5],\n",
              "       [180.8,  10.8,  58.4],\n",
              "       [  8.7,  48.9,  75. ],\n",
              "       [ 57.5,  32.8,  23.5],\n",
              "       [120.2,  19.6,  11.6],\n",
              "       [  8.6,   2.1,   1. ],\n",
              "       [199.8,   2.6,  21.2],\n",
              "       [ 66.1,   5.8,  24.2],\n",
              "       [214.7,  24. ,   4. ],\n",
              "       [ 23.8,  35.1,  65.9],\n",
              "       [ 97.5,   7.6,   7.2],\n",
              "       [204.1,  32.9,  46. ],\n",
              "       [195.4,  47.7,  52.9],\n",
              "       [ 67.8,  36.6, 114. ],\n",
              "       [281.4,  39.6,  55.8],\n",
              "       [ 69.2,  20.5,  18.3],\n",
              "       [147.3,  23.9,  19.1],\n",
              "       [218.4,  27.7,  53.4],\n",
              "       [237.4,   5.1,  23.5],\n",
              "       [ 13.2,  15.9,  49.6],\n",
              "       [228.3,  16.9,  26.2],\n",
              "       [ 62.3,  12.6,  18.3],\n",
              "       [262.9,   3.5,  19.5],\n",
              "       [142.9,  29.3,  12.6],\n",
              "       [240.1,  16.7,  22.9],\n",
              "       [248.8,  27.1,  22.9],\n",
              "       [ 70.6,  16. ,  40.8],\n",
              "       [292.9,  28.3,  43.2],\n",
              "       [112.9,  17.4,  38.6],\n",
              "       [ 97.2,   1.5,  30. ],\n",
              "       [265.6,  20. ,   0.3],\n",
              "       [ 95.7,   1.4,   7.4],\n",
              "       [290.7,   4.1,   8.5],\n",
              "       [266.9,  43.8,   5. ],\n",
              "       [ 74.7,  49.4,  45.7],\n",
              "       [ 43.1,  26.7,  35.1],\n",
              "       [228. ,  37.7,  32. ],\n",
              "       [202.5,  22.3,  31.6],\n",
              "       [177. ,  33.4,  38.7],\n",
              "       [293.6,  27.7,   1.8],\n",
              "       [206.9,   8.4,  26.4],\n",
              "       [ 25.1,  25.7,  43.3],\n",
              "       [175.1,  22.5,  31.5],\n",
              "       [ 89.7,   9.9,  35.7],\n",
              "       [239.9,  41.5,  18.5],\n",
              "       [227.2,  15.8,  49.9],\n",
              "       [ 66.9,  11.7,  36.8],\n",
              "       [199.8,   3.1,  34.6],\n",
              "       [100.4,   9.6,   3.6],\n",
              "       [216.4,  41.7,  39.6],\n",
              "       [182.6,  46.2,  58.7],\n",
              "       [262.7,  28.8,  15.9],\n",
              "       [198.9,  49.4,  60. ],\n",
              "       [  7.3,  28.1,  41.4],\n",
              "       [136.2,  19.2,  16.6],\n",
              "       [210.8,  49.6,  37.7],\n",
              "       [210.7,  29.5,   9.3],\n",
              "       [ 53.5,   2. ,  21.4],\n",
              "       [261.3,  42.7,  54.7],\n",
              "       [239.3,  15.5,  27.3],\n",
              "       [102.7,  29.6,   8.4],\n",
              "       [131.1,  42.8,  28.9],\n",
              "       [ 69. ,   9.3,   0.9],\n",
              "       [ 31.5,  24.6,   2.2],\n",
              "       [139.3,  14.5,  10.2],\n",
              "       [237.4,  27.5,  11. ],\n",
              "       [216.8,  43.9,  27.2],\n",
              "       [199.1,  30.6,  38.7],\n",
              "       [109.8,  14.3,  31.7],\n",
              "       [ 26.8,  33. ,  19.3],\n",
              "       [129.4,   5.7,  31.3],\n",
              "       [213.4,  24.6,  13.1],\n",
              "       [ 16.9,  43.7,  89.4],\n",
              "       [ 27.5,   1.6,  20.7],\n",
              "       [120.5,  28.5,  14.2],\n",
              "       [  5.4,  29.9,   9.4],\n",
              "       [116. ,   7.7,  23.1],\n",
              "       [ 76.4,  26.7,  22.3],\n",
              "       [239.8,   4.1,  36.9],\n",
              "       [ 75.3,  20.3,  32.5],\n",
              "       [ 68.4,  44.5,  35.6],\n",
              "       [213.5,  43. ,  33.8],\n",
              "       [193.2,  18.4,  65.7],\n",
              "       [ 76.3,  27.5,  16. ],\n",
              "       [110.7,  40.6,  63.2],\n",
              "       [ 88.3,  25.5,  73.4],\n",
              "       [109.8,  47.8,  51.4],\n",
              "       [134.3,   4.9,   9.3],\n",
              "       [ 28.6,   1.5,  33. ],\n",
              "       [217.7,  33.5,  59. ],\n",
              "       [250.9,  36.5,  72.3],\n",
              "       [107.4,  14. ,  10.9],\n",
              "       [163.3,  31.6,  52.9],\n",
              "       [197.6,   3.5,   5.9],\n",
              "       [184.9,  21. ,  22. ],\n",
              "       [289.7,  42.3,  51.2],\n",
              "       [135.2,  41.7,  45.9],\n",
              "       [222.4,   4.3,  49.8],\n",
              "       [296.4,  36.3, 100.9],\n",
              "       [280.2,  10.1,  21.4],\n",
              "       [187.9,  17.2,  17.9],\n",
              "       [238.2,  34.3,   5.3],\n",
              "       [137.9,  46.4,  59. ],\n",
              "       [ 25. ,  11. ,  29.7],\n",
              "       [ 90.4,   0.3,  23.2],\n",
              "       [ 13.1,   0.4,  25.6],\n",
              "       [255.4,  26.9,   5.5],\n",
              "       [225.8,   8.2,  56.5],\n",
              "       [241.7,  38. ,  23.2],\n",
              "       [175.7,  15.4,   2.4],\n",
              "       [209.6,  20.6,  10.7],\n",
              "       [ 78.2,  46.8,  34.5],\n",
              "       [ 75.1,  35. ,  52.7],\n",
              "       [139.2,  14.3,  25.6],\n",
              "       [ 76.4,   0.8,  14.8],\n",
              "       [125.7,  36.9,  79.2],\n",
              "       [ 19.4,  16. ,  22.3],\n",
              "       [141.3,  26.8,  46.2],\n",
              "       [ 18.8,  21.7,  50.4],\n",
              "       [224. ,   2.4,  15.6],\n",
              "       [123.1,  34.6,  12.4],\n",
              "       [229.5,  32.3,  74.2],\n",
              "       [ 87.2,  11.8,  25.9],\n",
              "       [  7.8,  38.9,  50.6],\n",
              "       [ 80.2,   0. ,   9.2],\n",
              "       [220.3,  49. ,   3.2],\n",
              "       [ 59.6,  12. ,  43.1],\n",
              "       [  0.7,  39.6,   8.7],\n",
              "       [265.2,   2.9,  43. ],\n",
              "       [  8.4,  27.2,   2.1],\n",
              "       [219.8,  33.5,  45.1],\n",
              "       [ 36.9,  38.6,  65.6],\n",
              "       [ 48.3,  47. ,   8.5],\n",
              "       [ 25.6,  39. ,   9.3],\n",
              "       [273.7,  28.9,  59.7],\n",
              "       [ 43. ,  25.9,  20.5],\n",
              "       [184.9,  43.9,   1.7],\n",
              "       [ 73.4,  17. ,  12.9],\n",
              "       [193.7,  35.4,  75.6],\n",
              "       [220.5,  33.2,  37.9],\n",
              "       [104.6,   5.7,  34.4],\n",
              "       [ 96.2,  14.8,  38.9],\n",
              "       [140.3,   1.9,   9. ],\n",
              "       [240.1,   7.3,   8.7],\n",
              "       [243.2,  49. ,  44.3],\n",
              "       [ 38. ,  40.3,  11.9],\n",
              "       [ 44.7,  25.8,  20.6],\n",
              "       [280.7,  13.9,  37. ],\n",
              "       [121. ,   8.4,  48.7],\n",
              "       [197.6,  23.3,  14.2],\n",
              "       [171.3,  39.7,  37.7],\n",
              "       [187.8,  21.1,   9.5],\n",
              "       [  4.1,  11.6,   5.7],\n",
              "       [ 93.9,  43.5,  50.5],\n",
              "       [149.8,   1.3,  24.3],\n",
              "       [ 11.7,  36.9,  45.2],\n",
              "       [131.7,  18.4,  34.6],\n",
              "       [172.5,  18.1,  30.7],\n",
              "       [ 85.7,  35.8,  49.3],\n",
              "       [188.4,  18.1,  25.6],\n",
              "       [163.5,  36.8,   7.4],\n",
              "       [117.2,  14.7,   5.4],\n",
              "       [234.5,   3.4,  84.8],\n",
              "       [ 17.9,  37.6,  21.6],\n",
              "       [206.8,   5.2,  19.4],\n",
              "       [215.4,  23.6,  57.6],\n",
              "       [284.3,  10.6,   6.4],\n",
              "       [ 50. ,  11.6,  18.4],\n",
              "       [164.5,  20.9,  47.4],\n",
              "       [ 19.6,  20.1,  17. ],\n",
              "       [168.4,   7.1,  12.8],\n",
              "       [222.4,   3.4,  13.1],\n",
              "       [276.9,  48.9,  41.8],\n",
              "       [248.4,  30.2,  20.3],\n",
              "       [170.2,   7.8,  35.2],\n",
              "       [276.7,   2.3,  23.7],\n",
              "       [165.6,  10. ,  17.6],\n",
              "       [156.6,   2.6,   8.3],\n",
              "       [218.5,   5.4,  27.4],\n",
              "       [ 56.2,   5.7,  29.7],\n",
              "       [287.6,  43. ,  71.8],\n",
              "       [253.8,  21.3,  30. ],\n",
              "       [205. ,  45.1,  19.6],\n",
              "       [139.5,   2.1,  26.6],\n",
              "       [191.1,  28.7,  18.2],\n",
              "       [286. ,  13.9,   3.7],\n",
              "       [ 18.7,  12.1,  23.4],\n",
              "       [ 39.5,  41.1,   5.8],\n",
              "       [ 75.5,  10.8,   6. ],\n",
              "       [ 17.2,   4.1,  31.6],\n",
              "       [166.8,  42. ,   3.6],\n",
              "       [149.7,  35.6,   6. ],\n",
              "       [ 38.2,   3.7,  13.8],\n",
              "       [ 94.2,   4.9,   8.1],\n",
              "       [177. ,   9.3,   6.4],\n",
              "       [283.6,  42. ,  66.2],\n",
              "       [232.1,   8.6,   8.7]])"
            ]
          },
          "execution_count": 27,
          "metadata": {},
          "output_type": "execute_result"
        }
      ],
      "source": [
        "x #2D Array"
      ]
    },
    {
      "cell_type": "code",
      "execution_count": 28,
      "metadata": {
        "colab": {
          "base_uri": "https://localhost:8080/"
        },
        "id": "p32FxT2Qz8Us",
        "outputId": "c3aff946-37a7-4cb4-dee6-e5640c34fdc5"
      },
      "outputs": [
        {
          "data": {
            "text/plain": [
              "array([22.1, 10.4, 12. , 16.5, 17.9,  7.2, 11.8, 13.2,  4.8, 15.6, 12.6,\n",
              "       17.4,  9.2, 13.7, 19. , 22.4, 12.5, 24.4, 11.3, 14.6, 18. , 17.5,\n",
              "        5.6, 20.5,  9.7, 17. , 15. , 20.9, 18.9, 10.5, 21.4, 11.9, 13.2,\n",
              "       17.4, 11.9, 17.8, 25.4, 14.7, 10.1, 21.5, 16.6, 17.1, 20.7, 17.9,\n",
              "        8.5, 16.1, 10.6, 23.2, 19.8,  9.7, 16.4, 10.7, 22.6, 21.2, 20.2,\n",
              "       23.7,  5.5, 13.2, 23.8, 18.4,  8.1, 24.2, 20.7, 14. , 16. , 11.3,\n",
              "       11. , 13.4, 18.9, 22.3, 18.3, 12.4,  8.8, 11. , 17. ,  8.7,  6.9,\n",
              "       14.2,  5.3, 11. , 11.8, 17.3, 11.3, 13.6, 21.7, 20.2, 12. , 16. ,\n",
              "       12.9, 16.7, 14. ,  7.3, 19.4, 22.2, 11.5, 16.9, 16.7, 20.5, 25.4,\n",
              "       17.2, 16.7, 23.8, 19.8, 19.7, 20.7, 15. ,  7.2, 12. ,  5.3, 19.8,\n",
              "       18.4, 21.8, 17.1, 20.9, 14.6, 12.6, 12.2,  9.4, 15.9,  6.6, 15.5,\n",
              "        7. , 16.6, 15.2, 19.7, 10.6,  6.6, 11.9, 24.7,  9.7,  1.6, 17.7,\n",
              "        5.7, 19.6, 10.8, 11.6,  9.5, 20.8,  9.6, 20.7, 10.9, 19.2, 20.1,\n",
              "       10.4, 12.3, 10.3, 18.2, 25.4, 10.9, 10.1, 16.1, 11.6, 16.6, 16. ,\n",
              "       20.6,  3.2, 15.3, 10.1,  7.3, 12.9, 16.4, 13.3, 19.9, 18. , 11.9,\n",
              "       16.9,  8. , 17.2, 17.1, 20. ,  8.4, 17.5,  7.6, 16.7, 16.5, 27. ,\n",
              "       20.2, 16.7, 16.8, 17.6, 15.5, 17.2,  8.7, 26.2, 17.6, 22.6, 10.3,\n",
              "       17.3, 20.9,  6.7, 10.8, 11.9,  5.9, 19.6, 17.3,  7.6, 14. , 14.8,\n",
              "       25.5, 18.4])"
            ]
          },
          "execution_count": 28,
          "metadata": {},
          "output_type": "execute_result"
        }
      ],
      "source": [
        "y # 1D Array"
      ]
    },
    {
      "cell_type": "code",
      "execution_count": 29,
      "metadata": {
        "colab": {
          "base_uri": "https://localhost:8080/"
        },
        "id": "vX4uTVI7z_ez",
        "outputId": "d91c7525-adf3-4c53-9d3e-a4c068aabbaa"
      },
      "outputs": [
        {
          "data": {
            "text/plain": [
              "[array([[166.8,  42. ,   3.6],\n",
              "        [197.6,   3.5,   5.9],\n",
              "        [281.4,  39.6,  55.8],\n",
              "        [ 13.2,  15.9,  49.6],\n",
              "        [241.7,  38. ,  23.2],\n",
              "        [ 23.8,  35.1,  65.9],\n",
              "        [ 75.3,  20.3,  32.5],\n",
              "        [238.2,  34.3,   5.3],\n",
              "        [ 85.7,  35.8,  49.3],\n",
              "        [156.6,   2.6,   8.3],\n",
              "        [ 69. ,   9.3,   0.9],\n",
              "        [213.5,  43. ,  33.8],\n",
              "        [222.4,   4.3,  49.8],\n",
              "        [ 36.9,  38.6,  65.6],\n",
              "        [230.1,  37.8,  69.2],\n",
              "        [168.4,   7.1,  12.8],\n",
              "        [250.9,  36.5,  72.3],\n",
              "        [ 67.8,  36.6, 114. ],\n",
              "        [276.9,  48.9,  41.8],\n",
              "        [ 43.1,  26.7,  35.1],\n",
              "        [109.8,  47.8,  51.4],\n",
              "        [ 68.4,  44.5,  35.6],\n",
              "        [ 75.5,  10.8,   6. ],\n",
              "        [239.9,  41.5,  18.5],\n",
              "        [225.8,   8.2,  56.5],\n",
              "        [ 75.1,  35. ,  52.7],\n",
              "        [292.9,  28.3,  43.2],\n",
              "        [ 96.2,  14.8,  38.9],\n",
              "        [104.6,   5.7,  34.4],\n",
              "        [ 97.5,   7.6,   7.2],\n",
              "        [262.9,   3.5,  19.5],\n",
              "        [182.6,  46.2,  58.7],\n",
              "        [215.4,  23.6,  57.6],\n",
              "        [224. ,   2.4,  15.6],\n",
              "        [ 78.2,  46.8,  34.5],\n",
              "        [276.7,   2.3,  23.7],\n",
              "        [293.6,  27.7,   1.8],\n",
              "        [110.7,  40.6,  63.2],\n",
              "        [ 31.5,  24.6,   2.2],\n",
              "        [100.4,   9.6,   3.6],\n",
              "        [120.5,  28.5,  14.2],\n",
              "        [266.9,  43.8,   5. ],\n",
              "        [ 17.2,   4.1,  31.6],\n",
              "        [218.5,   5.4,  27.4],\n",
              "        [289.7,  42.3,  51.2],\n",
              "        [237.4,   5.1,  23.5],\n",
              "        [255.4,  26.9,   5.5],\n",
              "        [222.4,   3.4,  13.1],\n",
              "        [ 57.5,  32.8,  23.5],\n",
              "        [ 11.7,  36.9,  45.2],\n",
              "        [135.2,  41.7,  45.9],\n",
              "        [141.3,  26.8,  46.2],\n",
              "        [198.9,  49.4,  60. ],\n",
              "        [ 39.5,  41.1,   5.8],\n",
              "        [202.5,  22.3,  31.6],\n",
              "        [131.7,  18.4,  34.6],\n",
              "        [147.3,  23.9,  19.1],\n",
              "        [205. ,  45.1,  19.6],\n",
              "        [117.2,  14.7,   5.4],\n",
              "        [136.2,  19.2,  16.6],\n",
              "        [139.2,  14.3,  25.6],\n",
              "        [109.8,  14.3,  31.7],\n",
              "        [ 28.6,   1.5,  33. ],\n",
              "        [ 25.1,  25.7,  43.3],\n",
              "        [  8.7,  48.9,  75. ],\n",
              "        [142.9,  29.3,  12.6],\n",
              "        [ 76.4,   0.8,  14.8],\n",
              "        [296.4,  36.3, 100.9],\n",
              "        [ 44.7,  25.8,  20.6],\n",
              "        [199.8,   2.6,  21.2],\n",
              "        [165.6,  10. ,  17.6],\n",
              "        [129.4,   5.7,  31.3],\n",
              "        [ 90.4,   0.3,  23.2],\n",
              "        [  8.6,   2.1,   1. ],\n",
              "        [248.8,  27.1,  22.9],\n",
              "        [ 17.2,  45.9,  69.3],\n",
              "        [206.9,   8.4,  26.4],\n",
              "        [209.6,  20.6,  10.7],\n",
              "        [134.3,   4.9,   9.3],\n",
              "        [ 70.6,  16. ,  40.8],\n",
              "        [ 88.3,  25.5,  73.4],\n",
              "        [290.7,   4.1,   8.5],\n",
              "        [ 18.8,  21.7,  50.4],\n",
              "        [123.1,  34.6,  12.4],\n",
              "        [177. ,   9.3,   6.4],\n",
              "        [125.7,  36.9,  79.2],\n",
              "        [280.2,  10.1,  21.4],\n",
              "        [ 94.2,   4.9,   8.1],\n",
              "        [273.7,  28.9,  59.7],\n",
              "        [ 76.4,  26.7,  22.3],\n",
              "        [248.4,  30.2,  20.3],\n",
              "        [137.9,  46.4,  59. ],\n",
              "        [ 13.1,   0.4,  25.6],\n",
              "        [213.4,  24.6,  13.1],\n",
              "        [ 18.7,  12.1,  23.4],\n",
              "        [220.3,  49. ,   3.2],\n",
              "        [  0.7,  39.6,   8.7],\n",
              "        [ 93.9,  43.5,  50.5],\n",
              "        [ 80.2,   0. ,   9.2],\n",
              "        [170.2,   7.8,  35.2],\n",
              "        [193.2,  18.4,  65.7],\n",
              "        [227.2,  15.8,  49.9],\n",
              "        [131.1,  42.8,  28.9],\n",
              "        [ 73.4,  17. ,  12.9],\n",
              "        [121. ,   8.4,  48.7],\n",
              "        [228. ,  37.7,  32. ],\n",
              "        [216.8,  43.9,  27.2],\n",
              "        [ 50. ,  11.6,  18.4],\n",
              "        [216.4,  41.7,  39.6],\n",
              "        [240.1,   7.3,   8.7],\n",
              "        [102.7,  29.6,   8.4],\n",
              "        [280.7,  13.9,  37. ],\n",
              "        [199.8,   3.1,  34.6],\n",
              "        [120.2,  19.6,  11.6],\n",
              "        [ 19.6,  20.1,  17. ],\n",
              "        [  8.4,  27.2,   2.1],\n",
              "        [253.8,  21.3,  30. ],\n",
              "        [193.7,  35.4,  75.6],\n",
              "        [ 69.2,  20.5,  18.3],\n",
              "        [ 56.2,   5.7,  29.7],\n",
              "        [ 25. ,  11. ,  29.7],\n",
              "        [112.9,  17.4,  38.6],\n",
              "        [228.3,  16.9,  26.2],\n",
              "        [175.7,  15.4,   2.4],\n",
              "        [  4.1,  11.6,   5.7],\n",
              "        [180.8,  10.8,  58.4],\n",
              "        [ 66.1,   5.8,  24.2],\n",
              "        [151.5,  41.3,  58.5],\n",
              "        [199.1,  30.6,  38.7],\n",
              "        [265.6,  20. ,   0.3],\n",
              "        [ 66.9,  11.7,  36.8],\n",
              "        [ 89.7,   9.9,  35.7],\n",
              "        [240.1,  16.7,  22.9],\n",
              "        [ 43. ,  25.9,  20.5],\n",
              "        [239.3,  15.5,  27.3],\n",
              "        [ 17.9,  37.6,  21.6],\n",
              "        [171.3,  39.7,  37.7],\n",
              "        [ 38. ,  40.3,  11.9],\n",
              "        [286. ,  13.9,   3.7],\n",
              "        [139.5,   2.1,  26.6],\n",
              "        [210.8,  49.6,  37.7],\n",
              "        [232.1,   8.6,   8.7],\n",
              "        [219.8,  33.5,  45.1],\n",
              "        [188.4,  18.1,  25.6],\n",
              "        [ 74.7,  49.4,  45.7],\n",
              "        [265.2,   2.9,  43. ],\n",
              "        [ 62.3,  12.6,  18.3],\n",
              "        [187.8,  21.1,   9.5],\n",
              "        [172.5,  18.1,  30.7],\n",
              "        [140.3,   1.9,   9. ],\n",
              "        [116. ,   7.7,  23.1],\n",
              "        [163.3,  31.6,  52.9],\n",
              "        [243.2,  49. ,  44.3],\n",
              "        [187.9,  17.2,  17.9],\n",
              "        [ 95.7,   1.4,   7.4],\n",
              "        [139.3,  14.5,  10.2],\n",
              "        [ 59.6,  12. ,  43.1],\n",
              "        [197.6,  23.3,  14.2],\n",
              "        [261.3,  42.7,  54.7],\n",
              "        [107.4,  14. ,  10.9]]),\n",
              " array([[175.1,  22.5,  31.5],\n",
              "        [210.7,  29.5,   9.3],\n",
              "        [239.8,   4.1,  36.9],\n",
              "        [184.9,  43.9,   1.7],\n",
              "        [284.3,  10.6,   6.4],\n",
              "        [163.5,  36.8,   7.4],\n",
              "        [ 27.5,   1.6,  20.7],\n",
              "        [262.7,  28.8,  15.9],\n",
              "        [ 16.9,  43.7,  89.4],\n",
              "        [ 76.3,  27.5,  16. ],\n",
              "        [ 53.5,   2. ,  21.4],\n",
              "        [ 44.5,  39.3,  45.1],\n",
              "        [ 97.2,   1.5,  30. ],\n",
              "        [ 26.8,  33. ,  19.3],\n",
              "        [283.6,  42. ,  66.2],\n",
              "        [149.8,   1.3,  24.3],\n",
              "        [ 25.6,  39. ,   9.3],\n",
              "        [195.4,  47.7,  52.9],\n",
              "        [  7.3,  28.1,  41.4],\n",
              "        [206.8,   5.2,  19.4],\n",
              "        [214.7,  24. ,   4. ],\n",
              "        [ 48.3,  47. ,   8.5],\n",
              "        [ 87.2,  11.8,  25.9],\n",
              "        [217.7,  33.5,  59. ],\n",
              "        [184.9,  21. ,  22. ],\n",
              "        [218.4,  27.7,  53.4],\n",
              "        [191.1,  28.7,  18.2],\n",
              "        [  7.8,  38.9,  50.6],\n",
              "        [204.1,  32.9,  46. ],\n",
              "        [220.5,  33.2,  37.9],\n",
              "        [  5.4,  29.9,   9.4],\n",
              "        [229.5,  32.3,  74.2],\n",
              "        [287.6,  43. ,  71.8],\n",
              "        [149.7,  35.6,   6. ],\n",
              "        [164.5,  20.9,  47.4],\n",
              "        [ 19.4,  16. ,  22.3],\n",
              "        [177. ,  33.4,  38.7],\n",
              "        [237.4,  27.5,  11. ],\n",
              "        [ 38.2,   3.7,  13.8],\n",
              "        [234.5,   3.4,  84.8]]),\n",
              " array([19.6, 16.7, 24.4,  5.6, 21.8,  9.2, 11.3, 20.7, 13.3, 15.5, 11.3,\n",
              "        21.7, 16.7, 10.8, 22.1, 16.7, 22.2, 12.5, 27. , 10.1, 16.7, 13.6,\n",
              "        11.9, 23.2, 18.4, 12.6, 21.4, 12.3, 10.4, 13.7, 17. , 21.2, 17.1,\n",
              "        16.6, 14.6, 16.8, 20.7, 16. , 11. , 10.7, 14.2, 25.4,  5.9, 17.2,\n",
              "        25.4, 17.5, 19.8, 16.5, 11.8,  7.3, 17.2, 15.5, 23.7, 10.8, 16.6,\n",
              "        12.9, 14.6, 22.6, 11.9, 13.2, 12.2, 12.4,  7.3,  8.5,  7.2, 15. ,\n",
              "         9.4, 23.8, 10.1, 15.6, 17.6, 11. , 12. ,  4.8, 18.9, 12. , 17.9,\n",
              "        20.9, 14. , 10.5, 12.9, 17.8,  7. , 15.2, 14.8, 15.9, 19.8, 14. ,\n",
              "        20.8, 11.8, 20.2, 15. ,  5.3, 17. ,  6.7, 24.7,  1.6, 15.3, 11.9,\n",
              "        16.7, 20.2, 19.8, 16. , 10.9, 11.6, 21.5, 22.3,  8.4, 22.6, 18.2,\n",
              "        14. , 16.1, 16.4, 13.2,  7.6,  5.7, 17.6, 19.2, 11.3,  8.7,  7.2,\n",
              "        11.9, 20.5, 17.1,  3.2, 17.9, 12.6, 16.5, 18.3, 17.4,  9.7, 10.6,\n",
              "        20.9,  9.6, 20.7,  8. , 16. , 10.9, 20.9, 10.3, 23.8, 18.4, 19.6,\n",
              "        19.9, 14.7, 17.7,  9.7, 20.6, 16.4, 10.3, 11. , 16.9, 25.4, 19.7,\n",
              "        11.9, 13.4,  9.7, 16.6, 24.2, 11.5]),\n",
              " array([16.1, 18.4, 17.3, 20.7, 20. , 18. ,  6.9, 20.2,  8.7, 12. ,  8.1,\n",
              "        10.4, 13.2,  8.8, 25.5, 10.1,  9.5, 22.4,  5.5, 17.2, 17.4, 11.6,\n",
              "        10.6, 19.4, 20.5, 18. , 17.3,  6.6, 19. , 20.1,  5.3, 19.7, 26.2,\n",
              "        17.3, 17.5,  6.6, 17.1, 18.9,  7.6, 16.9])]"
            ]
          },
          "execution_count": 29,
          "metadata": {},
          "output_type": "execute_result"
        }
      ],
      "source": [
        "train_test_split(x, y, train_size = 0.8, test_size=0.2) # validation set approch"
      ]
    },
    {
      "cell_type": "code",
      "execution_count": 30,
      "metadata": {
        "id": "IPpj72cK0N2x"
      },
      "outputs": [],
      "source": [
        "x_train, x_test, y_train, y_test = train_test_split(x, y, train_size = 0.8, test_size=0.2)\n",
        "# split data into train & test Data"
      ]
    },
    {
      "cell_type": "code",
      "execution_count": 31,
      "metadata": {
        "colab": {
          "base_uri": "https://localhost:8080/"
        },
        "id": "LMY53dmN0XMv",
        "outputId": "0b2fbe42-aefa-4329-9547-256a950444c2"
      },
      "outputs": [
        {
          "data": {
            "text/plain": [
              "array([[197.6,  23.3,  14.2],\n",
              "       [  5.4,  29.9,   9.4],\n",
              "       [ 18.8,  21.7,  50.4],\n",
              "       [ 36.9,  38.6,  65.6],\n",
              "       [ 90.4,   0.3,  23.2],\n",
              "       [ 23.8,  35.1,  65.9],\n",
              "       [237.4,   5.1,  23.5],\n",
              "       [243.2,  49. ,  44.3],\n",
              "       [140.3,   1.9,   9. ],\n",
              "       [ 80.2,   0. ,   9.2],\n",
              "       [137.9,  46.4,  59. ],\n",
              "       [ 13.2,  15.9,  49.6],\n",
              "       [187.8,  21.1,   9.5],\n",
              "       [  7.3,  28.1,  41.4],\n",
              "       [214.7,  24. ,   4. ],\n",
              "       [ 89.7,   9.9,  35.7],\n",
              "       [  8.4,  27.2,   2.1],\n",
              "       [ 57.5,  32.8,  23.5],\n",
              "       [139.5,   2.1,  26.6],\n",
              "       [280.2,  10.1,  21.4],\n",
              "       [280.7,  13.9,  37. ],\n",
              "       [290.7,   4.1,   8.5],\n",
              "       [219.8,  33.5,  45.1],\n",
              "       [ 73.4,  17. ,  12.9],\n",
              "       [197.6,   3.5,   5.9],\n",
              "       [266.9,  43.8,   5. ],\n",
              "       [ 13.1,   0.4,  25.6],\n",
              "       [ 66.9,  11.7,  36.8],\n",
              "       [ 94.2,   4.9,   8.1],\n",
              "       [ 19.4,  16. ,  22.3],\n",
              "       [ 93.9,  43.5,  50.5],\n",
              "       [  7.8,  38.9,  50.6],\n",
              "       [238.2,  34.3,   5.3],\n",
              "       [ 76.3,  27.5,  16. ],\n",
              "       [  8.6,   2.1,   1. ],\n",
              "       [151.5,  41.3,  58.5],\n",
              "       [184.9,  43.9,   1.7],\n",
              "       [116. ,   7.7,  23.1],\n",
              "       [ 17.9,  37.6,  21.6],\n",
              "       [ 67.8,  36.6, 114. ],\n",
              "       [248.4,  30.2,  20.3],\n",
              "       [232.1,   8.6,   8.7],\n",
              "       [  8.7,  48.9,  75. ],\n",
              "       [142.9,  29.3,  12.6],\n",
              "       [ 96.2,  14.8,  38.9],\n",
              "       [ 56.2,   5.7,  29.7],\n",
              "       [262.7,  28.8,  15.9],\n",
              "       [273.7,  28.9,  59.7],\n",
              "       [296.4,  36.3, 100.9],\n",
              "       [166.8,  42. ,   3.6],\n",
              "       [ 50. ,  11.6,  18.4],\n",
              "       [172.5,  18.1,  30.7],\n",
              "       [228.3,  16.9,  26.2],\n",
              "       [ 44.7,  25.8,  20.6],\n",
              "       [ 76.4,   0.8,  14.8],\n",
              "       [ 39.5,  41.1,   5.8],\n",
              "       [218.4,  27.7,  53.4],\n",
              "       [ 19.6,  20.1,  17. ],\n",
              "       [289.7,  42.3,  51.2],\n",
              "       [182.6,  46.2,  58.7],\n",
              "       [210.7,  29.5,   9.3],\n",
              "       [165.6,  10. ,  17.6],\n",
              "       [276.9,  48.9,  41.8],\n",
              "       [ 87.2,  11.8,  25.9],\n",
              "       [283.6,  42. ,  66.2],\n",
              "       [276.7,   2.3,  23.7],\n",
              "       [218.5,   5.4,  27.4],\n",
              "       [ 38.2,   3.7,  13.8],\n",
              "       [199.1,  30.6,  38.7],\n",
              "       [ 78.2,  46.8,  34.5],\n",
              "       [213.5,  43. ,  33.8],\n",
              "       [228. ,  37.7,  32. ],\n",
              "       [227.2,  15.8,  49.9],\n",
              "       [129.4,   5.7,  31.3],\n",
              "       [109.8,  47.8,  51.4],\n",
              "       [156.6,   2.6,   8.3],\n",
              "       [  0.7,  39.6,   8.7],\n",
              "       [217.7,  33.5,  59. ],\n",
              "       [199.8,   2.6,  21.2],\n",
              "       [292.9,  28.3,  43.2],\n",
              "       [139.3,  14.5,  10.2],\n",
              "       [ 76.4,  26.7,  22.3],\n",
              "       [237.4,  27.5,  11. ],\n",
              "       [ 66.1,   5.8,  24.2],\n",
              "       [193.2,  18.4,  65.7],\n",
              "       [171.3,  39.7,  37.7],\n",
              "       [239.8,   4.1,  36.9],\n",
              "       [163.5,  36.8,   7.4],\n",
              "       [164.5,  20.9,  47.4],\n",
              "       [ 43. ,  25.9,  20.5],\n",
              "       [102.7,  29.6,   8.4],\n",
              "       [216.4,  41.7,  39.6],\n",
              "       [120.5,  28.5,  14.2],\n",
              "       [125.7,  36.9,  79.2],\n",
              "       [ 68.4,  44.5,  35.6],\n",
              "       [168.4,   7.1,  12.8],\n",
              "       [184.9,  21. ,  22. ],\n",
              "       [224. ,   2.4,  15.6],\n",
              "       [287.6,  43. ,  71.8],\n",
              "       [281.4,  39.6,  55.8],\n",
              "       [180.8,  10.8,  58.4],\n",
              "       [250.9,  36.5,  72.3],\n",
              "       [149.8,   1.3,  24.3],\n",
              "       [193.7,  35.4,  75.6],\n",
              "       [ 95.7,   1.4,   7.4],\n",
              "       [230.1,  37.8,  69.2],\n",
              "       [ 69.2,  20.5,  18.3],\n",
              "       [149.7,  35.6,   6. ],\n",
              "       [104.6,   5.7,  34.4],\n",
              "       [139.2,  14.3,  25.6],\n",
              "       [222.4,   4.3,  49.8],\n",
              "       [100.4,   9.6,   3.6],\n",
              "       [147.3,  23.9,  19.1],\n",
              "       [ 69. ,   9.3,   0.9],\n",
              "       [284.3,  10.6,   6.4],\n",
              "       [240.1,  16.7,  22.9],\n",
              "       [175.7,  15.4,   2.4],\n",
              "       [293.6,  27.7,   1.8],\n",
              "       [ 97.2,   1.5,  30. ],\n",
              "       [220.5,  33.2,  37.9],\n",
              "       [209.6,  20.6,  10.7],\n",
              "       [222.4,   3.4,  13.1],\n",
              "       [ 18.7,  12.1,  23.4],\n",
              "       [136.2,  19.2,  16.6],\n",
              "       [ 85.7,  35.8,  49.3],\n",
              "       [265.6,  20. ,   0.3],\n",
              "       [188.4,  18.1,  25.6],\n",
              "       [ 43.1,  26.7,  35.1],\n",
              "       [199.8,   3.1,  34.6],\n",
              "       [187.9,  17.2,  17.9],\n",
              "       [131.1,  42.8,  28.9],\n",
              "       [177. ,  33.4,  38.7],\n",
              "       [112.9,  17.4,  38.6],\n",
              "       [120.2,  19.6,  11.6],\n",
              "       [ 88.3,  25.5,  73.4],\n",
              "       [262.9,   3.5,  19.5],\n",
              "       [215.4,  23.6,  57.6],\n",
              "       [265.2,   2.9,  43. ],\n",
              "       [ 75.1,  35. ,  52.7],\n",
              "       [202.5,  22.3,  31.6],\n",
              "       [175.1,  22.5,  31.5],\n",
              "       [141.3,  26.8,  46.2],\n",
              "       [121. ,   8.4,  48.7],\n",
              "       [ 31.5,  24.6,   2.2],\n",
              "       [ 17.2,  45.9,  69.3],\n",
              "       [107.4,  14. ,  10.9],\n",
              "       [ 25. ,  11. ,  29.7],\n",
              "       [ 16.9,  43.7,  89.4],\n",
              "       [ 38. ,  40.3,  11.9],\n",
              "       [ 26.8,  33. ,  19.3],\n",
              "       [229.5,  32.3,  74.2],\n",
              "       [  4.1,  11.6,   5.7],\n",
              "       [ 48.3,  47. ,   8.5],\n",
              "       [206.8,   5.2,  19.4],\n",
              "       [ 25.1,  25.7,  43.3],\n",
              "       [163.3,  31.6,  52.9],\n",
              "       [ 70.6,  16. ,  40.8],\n",
              "       [110.7,  40.6,  63.2],\n",
              "       [239.9,  41.5,  18.5],\n",
              "       [216.8,  43.9,  27.2]])"
            ]
          },
          "execution_count": 31,
          "metadata": {},
          "output_type": "execute_result"
        }
      ],
      "source": [
        "x_train"
      ]
    },
    {
      "cell_type": "code",
      "execution_count": 32,
      "metadata": {
        "id": "Vk_s2HQQ0jKB"
      },
      "outputs": [],
      "source": [
        "x_train, x_test, y_train, y_test = train_test_split(x, y, train_size = 0.8, test_size=0.2, random_state = 100)\n",
        "# Split data into train & test Data\n",
        "# Random state decide you will get the same value"
      ]
    },
    {
      "cell_type": "code",
      "execution_count": 33,
      "metadata": {
        "colab": {
          "base_uri": "https://localhost:8080/"
        },
        "id": "O88kM9bo0uKr",
        "outputId": "ea7fa964-9888-4154-ac7d-cf8e960ec791"
      },
      "outputs": [
        {
          "data": {
            "text/plain": [
              "array([[215.4,  23.6,  57.6],\n",
              "       [175.7,  15.4,   2.4],\n",
              "       [164.5,  20.9,  47.4],\n",
              "       [218.5,   5.4,  27.4],\n",
              "       [120.2,  19.6,  11.6],\n",
              "       [ 89.7,   9.9,  35.7],\n",
              "       [ 16.9,  43.7,  89.4],\n",
              "       [248.8,  27.1,  22.9],\n",
              "       [ 70.6,  16. ,  40.8],\n",
              "       [ 38.2,   3.7,  13.8],\n",
              "       [202.5,  22.3,  31.6],\n",
              "       [171.3,  39.7,  37.7],\n",
              "       [ 75.1,  35. ,  52.7],\n",
              "       [131.1,  42.8,  28.9],\n",
              "       [210.7,  29.5,   9.3],\n",
              "       [ 44.5,  39.3,  45.1],\n",
              "       [ 17.2,   4.1,  31.6],\n",
              "       [ 25.6,  39. ,   9.3],\n",
              "       [197.6,  23.3,  14.2],\n",
              "       [ 85.7,  35.8,  49.3],\n",
              "       [213.4,  24.6,  13.1],\n",
              "       [151.5,  41.3,  58.5],\n",
              "       [205. ,  45.1,  19.6],\n",
              "       [142.9,  29.3,  12.6],\n",
              "       [134.3,   4.9,   9.3],\n",
              "       [ 80.2,   0. ,   9.2],\n",
              "       [239.8,   4.1,  36.9],\n",
              "       [ 88.3,  25.5,  73.4],\n",
              "       [ 19.4,  16. ,  22.3],\n",
              "       [225.8,   8.2,  56.5],\n",
              "       [136.2,  19.2,  16.6],\n",
              "       [ 25.1,  25.7,  43.3],\n",
              "       [ 38. ,  40.3,  11.9],\n",
              "       [172.5,  18.1,  30.7],\n",
              "       [109.8,  47.8,  51.4],\n",
              "       [240.1,   7.3,   8.7],\n",
              "       [232.1,   8.6,   8.7],\n",
              "       [ 66.1,   5.8,  24.2],\n",
              "       [218.4,  27.7,  53.4],\n",
              "       [234.5,   3.4,  84.8],\n",
              "       [ 23.8,  35.1,  65.9],\n",
              "       [ 67.8,  36.6, 114. ],\n",
              "       [296.4,  36.3, 100.9],\n",
              "       [141.3,  26.8,  46.2],\n",
              "       [175.1,  22.5,  31.5],\n",
              "       [220.5,  33.2,  37.9],\n",
              "       [ 76.4,   0.8,  14.8],\n",
              "       [253.8,  21.3,  30. ],\n",
              "       [191.1,  28.7,  18.2],\n",
              "       [287.6,  43. ,  71.8],\n",
              "       [100.4,   9.6,   3.6],\n",
              "       [228. ,  37.7,  32. ],\n",
              "       [125.7,  36.9,  79.2],\n",
              "       [ 74.7,  49.4,  45.7],\n",
              "       [ 57.5,  32.8,  23.5],\n",
              "       [262.7,  28.8,  15.9],\n",
              "       [262.9,   3.5,  19.5],\n",
              "       [237.4,   5.1,  23.5],\n",
              "       [227.2,  15.8,  49.9],\n",
              "       [199.8,   2.6,  21.2],\n",
              "       [228.3,  16.9,  26.2],\n",
              "       [290.7,   4.1,   8.5],\n",
              "       [276.9,  48.9,  41.8],\n",
              "       [199.8,   3.1,  34.6],\n",
              "       [239.3,  15.5,  27.3],\n",
              "       [ 73.4,  17. ,  12.9],\n",
              "       [284.3,  10.6,   6.4],\n",
              "       [147.3,  23.9,  19.1],\n",
              "       [224. ,   2.4,  15.6],\n",
              "       [198.9,  49.4,  60. ],\n",
              "       [276.7,   2.3,  23.7],\n",
              "       [ 13.2,  15.9,  49.6],\n",
              "       [ 11.7,  36.9,  45.2],\n",
              "       [280.2,  10.1,  21.4],\n",
              "       [ 39.5,  41.1,   5.8],\n",
              "       [265.6,  20. ,   0.3],\n",
              "       [ 27.5,   1.6,  20.7],\n",
              "       [280.7,  13.9,  37. ],\n",
              "       [ 78.2,  46.8,  34.5],\n",
              "       [163.3,  31.6,  52.9],\n",
              "       [213.5,  43. ,  33.8],\n",
              "       [293.6,  27.7,   1.8],\n",
              "       [ 18.7,  12.1,  23.4],\n",
              "       [ 75.5,  10.8,   6. ],\n",
              "       [166.8,  42. ,   3.6],\n",
              "       [ 44.7,  25.8,  20.6],\n",
              "       [109.8,  14.3,  31.7],\n",
              "       [  8.7,  48.9,  75. ],\n",
              "       [266.9,  43.8,   5. ],\n",
              "       [206.9,   8.4,  26.4],\n",
              "       [149.8,   1.3,  24.3],\n",
              "       [ 19.6,  20.1,  17. ],\n",
              "       [ 36.9,  38.6,  65.6],\n",
              "       [199.1,  30.6,  38.7],\n",
              "       [265.2,   2.9,  43. ],\n",
              "       [165.6,  10. ,  17.6],\n",
              "       [140.3,   1.9,   9. ],\n",
              "       [230.1,  37.8,  69.2],\n",
              "       [  5.4,  29.9,   9.4],\n",
              "       [ 17.9,  37.6,  21.6],\n",
              "       [237.4,  27.5,  11. ],\n",
              "       [286. ,  13.9,   3.7],\n",
              "       [ 93.9,  43.5,  50.5],\n",
              "       [292.9,  28.3,  43.2],\n",
              "       [ 25. ,  11. ,  29.7],\n",
              "       [ 97.5,   7.6,   7.2],\n",
              "       [ 26.8,  33. ,  19.3],\n",
              "       [281.4,  39.6,  55.8],\n",
              "       [ 69.2,  20.5,  18.3],\n",
              "       [ 43.1,  26.7,  35.1],\n",
              "       [255.4,  26.9,   5.5],\n",
              "       [239.9,  41.5,  18.5],\n",
              "       [209.6,  20.6,  10.7],\n",
              "       [  7.3,  28.1,  41.4],\n",
              "       [240.1,  16.7,  22.9],\n",
              "       [102.7,  29.6,   8.4],\n",
              "       [243.2,  49. ,  44.3],\n",
              "       [137.9,  46.4,  59. ],\n",
              "       [ 18.8,  21.7,  50.4],\n",
              "       [ 17.2,  45.9,  69.3],\n",
              "       [ 76.4,  26.7,  22.3],\n",
              "       [139.5,   2.1,  26.6],\n",
              "       [261.3,  42.7,  54.7],\n",
              "       [ 66.9,  11.7,  36.8],\n",
              "       [ 48.3,  47. ,   8.5],\n",
              "       [177. ,   9.3,   6.4],\n",
              "       [ 28.6,   1.5,  33. ],\n",
              "       [180.8,  10.8,  58.4],\n",
              "       [222.4,   4.3,  49.8],\n",
              "       [193.7,  35.4,  75.6],\n",
              "       [ 59.6,  12. ,  43.1],\n",
              "       [131.7,  18.4,  34.6],\n",
              "       [  8.4,  27.2,   2.1],\n",
              "       [ 13.1,   0.4,  25.6],\n",
              "       [  4.1,  11.6,   5.7],\n",
              "       [  0.7,  39.6,   8.7],\n",
              "       [ 76.3,  27.5,  16. ],\n",
              "       [250.9,  36.5,  72.3],\n",
              "       [273.7,  28.9,  59.7],\n",
              "       [ 96.2,  14.8,  38.9],\n",
              "       [210.8,  49.6,  37.7],\n",
              "       [ 53.5,   2. ,  21.4],\n",
              "       [ 90.4,   0.3,  23.2],\n",
              "       [104.6,   5.7,  34.4],\n",
              "       [283.6,  42. ,  66.2],\n",
              "       [ 95.7,   1.4,   7.4],\n",
              "       [204.1,  32.9,  46. ],\n",
              "       [ 31.5,  24.6,   2.2],\n",
              "       [182.6,  46.2,  58.7],\n",
              "       [289.7,  42.3,  51.2],\n",
              "       [156.6,   2.6,   8.3],\n",
              "       [107.4,  14. ,  10.9],\n",
              "       [ 43. ,  25.9,  20.5],\n",
              "       [248.4,  30.2,  20.3],\n",
              "       [116. ,   7.7,  23.1],\n",
              "       [110.7,  40.6,  63.2],\n",
              "       [187.9,  17.2,  17.9],\n",
              "       [139.3,  14.5,  10.2],\n",
              "       [ 62.3,  12.6,  18.3],\n",
              "       [  8.6,   2.1,   1. ]])"
            ]
          },
          "execution_count": 33,
          "metadata": {},
          "output_type": "execute_result"
        }
      ],
      "source": [
        "# take a look at the train dataset\n",
        "x_train"
      ]
    },
    {
      "cell_type": "code",
      "execution_count": 34,
      "metadata": {
        "colab": {
          "base_uri": "https://localhost:8080/"
        },
        "id": "ubxhZHpwFJtE",
        "outputId": "67ff1ab0-c76b-4a23-d6fe-4b4b4042d798"
      },
      "outputs": [
        {
          "data": {
            "text/plain": [
              "array([[  7.8,  38.9,  50.6],\n",
              "       [238.2,  34.3,   5.3],\n",
              "       [135.2,  41.7,  45.9],\n",
              "       [217.7,  33.5,  59. ],\n",
              "       [241.7,  38. ,  23.2],\n",
              "       [206.8,   5.2,  19.4],\n",
              "       [139.2,  14.3,  25.6],\n",
              "       [197.6,   3.5,   5.9],\n",
              "       [216.4,  41.7,  39.6],\n",
              "       [216.8,  43.9,  27.2],\n",
              "       [117.2,  14.7,   5.4],\n",
              "       [229.5,  32.3,  74.2],\n",
              "       [ 56.2,   5.7,  29.7],\n",
              "       [187.8,  21.1,   9.5],\n",
              "       [ 87.2,  11.8,  25.9],\n",
              "       [ 94.2,   4.9,   8.1],\n",
              "       [149.7,  35.6,   6. ],\n",
              "       [170.2,   7.8,  35.2],\n",
              "       [163.5,  36.8,   7.4],\n",
              "       [112.9,  17.4,  38.6],\n",
              "       [214.7,  24. ,   4. ],\n",
              "       [129.4,   5.7,  31.3],\n",
              "       [195.4,  47.7,  52.9],\n",
              "       [177. ,  33.4,  38.7],\n",
              "       [184.9,  21. ,  22. ],\n",
              "       [220.3,  49. ,   3.2],\n",
              "       [219.8,  33.5,  45.1],\n",
              "       [ 75.3,  20.3,  32.5],\n",
              "       [184.9,  43.9,   1.7],\n",
              "       [123.1,  34.6,  12.4],\n",
              "       [ 68.4,  44.5,  35.6],\n",
              "       [ 69. ,   9.3,   0.9],\n",
              "       [121. ,   8.4,  48.7],\n",
              "       [188.4,  18.1,  25.6],\n",
              "       [ 50. ,  11.6,  18.4],\n",
              "       [120.5,  28.5,  14.2],\n",
              "       [ 97.2,   1.5,  30. ],\n",
              "       [168.4,   7.1,  12.8],\n",
              "       [222.4,   3.4,  13.1],\n",
              "       [193.2,  18.4,  65.7]])"
            ]
          },
          "execution_count": 34,
          "metadata": {},
          "output_type": "execute_result"
        }
      ],
      "source": [
        "x_test"
      ]
    },
    {
      "cell_type": "code",
      "execution_count": 35,
      "metadata": {
        "id": "F8JW6Vj4FP42"
      },
      "outputs": [],
      "source": [
        "model = LinearRegression() # import Linear regression for the model"
      ]
    },
    {
      "cell_type": "code",
      "execution_count": 36,
      "metadata": {
        "colab": {
          "base_uri": "https://localhost:8080/",
          "height": 80
        },
        "id": "c01BJs4VFWSP",
        "outputId": "9068f454-efba-4fae-af1b-a0db4b9ba2b0"
      },
      "outputs": [
        {
          "data": {
            "text/html": [
              "<style>#sk-container-id-1 {\n",
              "  /* Definition of color scheme common for light and dark mode */\n",
              "  --sklearn-color-text: black;\n",
              "  --sklearn-color-line: gray;\n",
              "  /* Definition of color scheme for unfitted estimators */\n",
              "  --sklearn-color-unfitted-level-0: #fff5e6;\n",
              "  --sklearn-color-unfitted-level-1: #f6e4d2;\n",
              "  --sklearn-color-unfitted-level-2: #ffe0b3;\n",
              "  --sklearn-color-unfitted-level-3: chocolate;\n",
              "  /* Definition of color scheme for fitted estimators */\n",
              "  --sklearn-color-fitted-level-0: #f0f8ff;\n",
              "  --sklearn-color-fitted-level-1: #d4ebff;\n",
              "  --sklearn-color-fitted-level-2: #b3dbfd;\n",
              "  --sklearn-color-fitted-level-3: cornflowerblue;\n",
              "\n",
              "  /* Specific color for light theme */\n",
              "  --sklearn-color-text-on-default-background: var(--sg-text-color, var(--theme-code-foreground, var(--jp-content-font-color1, black)));\n",
              "  --sklearn-color-background: var(--sg-background-color, var(--theme-background, var(--jp-layout-color0, white)));\n",
              "  --sklearn-color-border-box: var(--sg-text-color, var(--theme-code-foreground, var(--jp-content-font-color1, black)));\n",
              "  --sklearn-color-icon: #696969;\n",
              "\n",
              "  @media (prefers-color-scheme: dark) {\n",
              "    /* Redefinition of color scheme for dark theme */\n",
              "    --sklearn-color-text-on-default-background: var(--sg-text-color, var(--theme-code-foreground, var(--jp-content-font-color1, white)));\n",
              "    --sklearn-color-background: var(--sg-background-color, var(--theme-background, var(--jp-layout-color0, #111)));\n",
              "    --sklearn-color-border-box: var(--sg-text-color, var(--theme-code-foreground, var(--jp-content-font-color1, white)));\n",
              "    --sklearn-color-icon: #878787;\n",
              "  }\n",
              "}\n",
              "\n",
              "#sk-container-id-1 {\n",
              "  color: var(--sklearn-color-text);\n",
              "}\n",
              "\n",
              "#sk-container-id-1 pre {\n",
              "  padding: 0;\n",
              "}\n",
              "\n",
              "#sk-container-id-1 input.sk-hidden--visually {\n",
              "  border: 0;\n",
              "  clip: rect(1px 1px 1px 1px);\n",
              "  clip: rect(1px, 1px, 1px, 1px);\n",
              "  height: 1px;\n",
              "  margin: -1px;\n",
              "  overflow: hidden;\n",
              "  padding: 0;\n",
              "  position: absolute;\n",
              "  width: 1px;\n",
              "}\n",
              "\n",
              "#sk-container-id-1 div.sk-dashed-wrapped {\n",
              "  border: 1px dashed var(--sklearn-color-line);\n",
              "  margin: 0 0.4em 0.5em 0.4em;\n",
              "  box-sizing: border-box;\n",
              "  padding-bottom: 0.4em;\n",
              "  background-color: var(--sklearn-color-background);\n",
              "}\n",
              "\n",
              "#sk-container-id-1 div.sk-container {\n",
              "  /* jupyter's `normalize.less` sets `[hidden] { display: none; }`\n",
              "     but bootstrap.min.css set `[hidden] { display: none !important; }`\n",
              "     so we also need the `!important` here to be able to override the\n",
              "     default hidden behavior on the sphinx rendered scikit-learn.org.\n",
              "     See: https://github.com/scikit-learn/scikit-learn/issues/21755 */\n",
              "  display: inline-block !important;\n",
              "  position: relative;\n",
              "}\n",
              "\n",
              "#sk-container-id-1 div.sk-text-repr-fallback {\n",
              "  display: none;\n",
              "}\n",
              "\n",
              "div.sk-parallel-item,\n",
              "div.sk-serial,\n",
              "div.sk-item {\n",
              "  /* draw centered vertical line to link estimators */\n",
              "  background-image: linear-gradient(var(--sklearn-color-text-on-default-background), var(--sklearn-color-text-on-default-background));\n",
              "  background-size: 2px 100%;\n",
              "  background-repeat: no-repeat;\n",
              "  background-position: center center;\n",
              "}\n",
              "\n",
              "/* Parallel-specific style estimator block */\n",
              "\n",
              "#sk-container-id-1 div.sk-parallel-item::after {\n",
              "  content: \"\";\n",
              "  width: 100%;\n",
              "  border-bottom: 2px solid var(--sklearn-color-text-on-default-background);\n",
              "  flex-grow: 1;\n",
              "}\n",
              "\n",
              "#sk-container-id-1 div.sk-parallel {\n",
              "  display: flex;\n",
              "  align-items: stretch;\n",
              "  justify-content: center;\n",
              "  background-color: var(--sklearn-color-background);\n",
              "  position: relative;\n",
              "}\n",
              "\n",
              "#sk-container-id-1 div.sk-parallel-item {\n",
              "  display: flex;\n",
              "  flex-direction: column;\n",
              "}\n",
              "\n",
              "#sk-container-id-1 div.sk-parallel-item:first-child::after {\n",
              "  align-self: flex-end;\n",
              "  width: 50%;\n",
              "}\n",
              "\n",
              "#sk-container-id-1 div.sk-parallel-item:last-child::after {\n",
              "  align-self: flex-start;\n",
              "  width: 50%;\n",
              "}\n",
              "\n",
              "#sk-container-id-1 div.sk-parallel-item:only-child::after {\n",
              "  width: 0;\n",
              "}\n",
              "\n",
              "/* Serial-specific style estimator block */\n",
              "\n",
              "#sk-container-id-1 div.sk-serial {\n",
              "  display: flex;\n",
              "  flex-direction: column;\n",
              "  align-items: center;\n",
              "  background-color: var(--sklearn-color-background);\n",
              "  padding-right: 1em;\n",
              "  padding-left: 1em;\n",
              "}\n",
              "\n",
              "\n",
              "/* Toggleable style: style used for estimator/Pipeline/ColumnTransformer box that is\n",
              "clickable and can be expanded/collapsed.\n",
              "- Pipeline and ColumnTransformer use this feature and define the default style\n",
              "- Estimators will overwrite some part of the style using the `sk-estimator` class\n",
              "*/\n",
              "\n",
              "/* Pipeline and ColumnTransformer style (default) */\n",
              "\n",
              "#sk-container-id-1 div.sk-toggleable {\n",
              "  /* Default theme specific background. It is overwritten whether we have a\n",
              "  specific estimator or a Pipeline/ColumnTransformer */\n",
              "  background-color: var(--sklearn-color-background);\n",
              "}\n",
              "\n",
              "/* Toggleable label */\n",
              "#sk-container-id-1 label.sk-toggleable__label {\n",
              "  cursor: pointer;\n",
              "  display: block;\n",
              "  width: 100%;\n",
              "  margin-bottom: 0;\n",
              "  padding: 0.5em;\n",
              "  box-sizing: border-box;\n",
              "  text-align: center;\n",
              "}\n",
              "\n",
              "#sk-container-id-1 label.sk-toggleable__label-arrow:before {\n",
              "  /* Arrow on the left of the label */\n",
              "  content: \"▸\";\n",
              "  float: left;\n",
              "  margin-right: 0.25em;\n",
              "  color: var(--sklearn-color-icon);\n",
              "}\n",
              "\n",
              "#sk-container-id-1 label.sk-toggleable__label-arrow:hover:before {\n",
              "  color: var(--sklearn-color-text);\n",
              "}\n",
              "\n",
              "/* Toggleable content - dropdown */\n",
              "\n",
              "#sk-container-id-1 div.sk-toggleable__content {\n",
              "  max-height: 0;\n",
              "  max-width: 0;\n",
              "  overflow: hidden;\n",
              "  text-align: left;\n",
              "  /* unfitted */\n",
              "  background-color: var(--sklearn-color-unfitted-level-0);\n",
              "}\n",
              "\n",
              "#sk-container-id-1 div.sk-toggleable__content.fitted {\n",
              "  /* fitted */\n",
              "  background-color: var(--sklearn-color-fitted-level-0);\n",
              "}\n",
              "\n",
              "#sk-container-id-1 div.sk-toggleable__content pre {\n",
              "  margin: 0.2em;\n",
              "  border-radius: 0.25em;\n",
              "  color: var(--sklearn-color-text);\n",
              "  /* unfitted */\n",
              "  background-color: var(--sklearn-color-unfitted-level-0);\n",
              "}\n",
              "\n",
              "#sk-container-id-1 div.sk-toggleable__content.fitted pre {\n",
              "  /* unfitted */\n",
              "  background-color: var(--sklearn-color-fitted-level-0);\n",
              "}\n",
              "\n",
              "#sk-container-id-1 input.sk-toggleable__control:checked~div.sk-toggleable__content {\n",
              "  /* Expand drop-down */\n",
              "  max-height: 200px;\n",
              "  max-width: 100%;\n",
              "  overflow: auto;\n",
              "}\n",
              "\n",
              "#sk-container-id-1 input.sk-toggleable__control:checked~label.sk-toggleable__label-arrow:before {\n",
              "  content: \"▾\";\n",
              "}\n",
              "\n",
              "/* Pipeline/ColumnTransformer-specific style */\n",
              "\n",
              "#sk-container-id-1 div.sk-label input.sk-toggleable__control:checked~label.sk-toggleable__label {\n",
              "  color: var(--sklearn-color-text);\n",
              "  background-color: var(--sklearn-color-unfitted-level-2);\n",
              "}\n",
              "\n",
              "#sk-container-id-1 div.sk-label.fitted input.sk-toggleable__control:checked~label.sk-toggleable__label {\n",
              "  background-color: var(--sklearn-color-fitted-level-2);\n",
              "}\n",
              "\n",
              "/* Estimator-specific style */\n",
              "\n",
              "/* Colorize estimator box */\n",
              "#sk-container-id-1 div.sk-estimator input.sk-toggleable__control:checked~label.sk-toggleable__label {\n",
              "  /* unfitted */\n",
              "  background-color: var(--sklearn-color-unfitted-level-2);\n",
              "}\n",
              "\n",
              "#sk-container-id-1 div.sk-estimator.fitted input.sk-toggleable__control:checked~label.sk-toggleable__label {\n",
              "  /* fitted */\n",
              "  background-color: var(--sklearn-color-fitted-level-2);\n",
              "}\n",
              "\n",
              "#sk-container-id-1 div.sk-label label.sk-toggleable__label,\n",
              "#sk-container-id-1 div.sk-label label {\n",
              "  /* The background is the default theme color */\n",
              "  color: var(--sklearn-color-text-on-default-background);\n",
              "}\n",
              "\n",
              "/* On hover, darken the color of the background */\n",
              "#sk-container-id-1 div.sk-label:hover label.sk-toggleable__label {\n",
              "  color: var(--sklearn-color-text);\n",
              "  background-color: var(--sklearn-color-unfitted-level-2);\n",
              "}\n",
              "\n",
              "/* Label box, darken color on hover, fitted */\n",
              "#sk-container-id-1 div.sk-label.fitted:hover label.sk-toggleable__label.fitted {\n",
              "  color: var(--sklearn-color-text);\n",
              "  background-color: var(--sklearn-color-fitted-level-2);\n",
              "}\n",
              "\n",
              "/* Estimator label */\n",
              "\n",
              "#sk-container-id-1 div.sk-label label {\n",
              "  font-family: monospace;\n",
              "  font-weight: bold;\n",
              "  display: inline-block;\n",
              "  line-height: 1.2em;\n",
              "}\n",
              "\n",
              "#sk-container-id-1 div.sk-label-container {\n",
              "  text-align: center;\n",
              "}\n",
              "\n",
              "/* Estimator-specific */\n",
              "#sk-container-id-1 div.sk-estimator {\n",
              "  font-family: monospace;\n",
              "  border: 1px dotted var(--sklearn-color-border-box);\n",
              "  border-radius: 0.25em;\n",
              "  box-sizing: border-box;\n",
              "  margin-bottom: 0.5em;\n",
              "  /* unfitted */\n",
              "  background-color: var(--sklearn-color-unfitted-level-0);\n",
              "}\n",
              "\n",
              "#sk-container-id-1 div.sk-estimator.fitted {\n",
              "  /* fitted */\n",
              "  background-color: var(--sklearn-color-fitted-level-0);\n",
              "}\n",
              "\n",
              "/* on hover */\n",
              "#sk-container-id-1 div.sk-estimator:hover {\n",
              "  /* unfitted */\n",
              "  background-color: var(--sklearn-color-unfitted-level-2);\n",
              "}\n",
              "\n",
              "#sk-container-id-1 div.sk-estimator.fitted:hover {\n",
              "  /* fitted */\n",
              "  background-color: var(--sklearn-color-fitted-level-2);\n",
              "}\n",
              "\n",
              "/* Specification for estimator info (e.g. \"i\" and \"?\") */\n",
              "\n",
              "/* Common style for \"i\" and \"?\" */\n",
              "\n",
              ".sk-estimator-doc-link,\n",
              "a:link.sk-estimator-doc-link,\n",
              "a:visited.sk-estimator-doc-link {\n",
              "  float: right;\n",
              "  font-size: smaller;\n",
              "  line-height: 1em;\n",
              "  font-family: monospace;\n",
              "  background-color: var(--sklearn-color-background);\n",
              "  border-radius: 1em;\n",
              "  height: 1em;\n",
              "  width: 1em;\n",
              "  text-decoration: none !important;\n",
              "  margin-left: 1ex;\n",
              "  /* unfitted */\n",
              "  border: var(--sklearn-color-unfitted-level-1) 1pt solid;\n",
              "  color: var(--sklearn-color-unfitted-level-1);\n",
              "}\n",
              "\n",
              ".sk-estimator-doc-link.fitted,\n",
              "a:link.sk-estimator-doc-link.fitted,\n",
              "a:visited.sk-estimator-doc-link.fitted {\n",
              "  /* fitted */\n",
              "  border: var(--sklearn-color-fitted-level-1) 1pt solid;\n",
              "  color: var(--sklearn-color-fitted-level-1);\n",
              "}\n",
              "\n",
              "/* On hover */\n",
              "div.sk-estimator:hover .sk-estimator-doc-link:hover,\n",
              ".sk-estimator-doc-link:hover,\n",
              "div.sk-label-container:hover .sk-estimator-doc-link:hover,\n",
              ".sk-estimator-doc-link:hover {\n",
              "  /* unfitted */\n",
              "  background-color: var(--sklearn-color-unfitted-level-3);\n",
              "  color: var(--sklearn-color-background);\n",
              "  text-decoration: none;\n",
              "}\n",
              "\n",
              "div.sk-estimator.fitted:hover .sk-estimator-doc-link.fitted:hover,\n",
              ".sk-estimator-doc-link.fitted:hover,\n",
              "div.sk-label-container:hover .sk-estimator-doc-link.fitted:hover,\n",
              ".sk-estimator-doc-link.fitted:hover {\n",
              "  /* fitted */\n",
              "  background-color: var(--sklearn-color-fitted-level-3);\n",
              "  color: var(--sklearn-color-background);\n",
              "  text-decoration: none;\n",
              "}\n",
              "\n",
              "/* Span, style for the box shown on hovering the info icon */\n",
              ".sk-estimator-doc-link span {\n",
              "  display: none;\n",
              "  z-index: 9999;\n",
              "  position: relative;\n",
              "  font-weight: normal;\n",
              "  right: .2ex;\n",
              "  padding: .5ex;\n",
              "  margin: .5ex;\n",
              "  width: min-content;\n",
              "  min-width: 20ex;\n",
              "  max-width: 50ex;\n",
              "  color: var(--sklearn-color-text);\n",
              "  box-shadow: 2pt 2pt 4pt #999;\n",
              "  /* unfitted */\n",
              "  background: var(--sklearn-color-unfitted-level-0);\n",
              "  border: .5pt solid var(--sklearn-color-unfitted-level-3);\n",
              "}\n",
              "\n",
              ".sk-estimator-doc-link.fitted span {\n",
              "  /* fitted */\n",
              "  background: var(--sklearn-color-fitted-level-0);\n",
              "  border: var(--sklearn-color-fitted-level-3);\n",
              "}\n",
              "\n",
              ".sk-estimator-doc-link:hover span {\n",
              "  display: block;\n",
              "}\n",
              "\n",
              "/* \"?\"-specific style due to the `<a>` HTML tag */\n",
              "\n",
              "#sk-container-id-1 a.estimator_doc_link {\n",
              "  float: right;\n",
              "  font-size: 1rem;\n",
              "  line-height: 1em;\n",
              "  font-family: monospace;\n",
              "  background-color: var(--sklearn-color-background);\n",
              "  border-radius: 1rem;\n",
              "  height: 1rem;\n",
              "  width: 1rem;\n",
              "  text-decoration: none;\n",
              "  /* unfitted */\n",
              "  color: var(--sklearn-color-unfitted-level-1);\n",
              "  border: var(--sklearn-color-unfitted-level-1) 1pt solid;\n",
              "}\n",
              "\n",
              "#sk-container-id-1 a.estimator_doc_link.fitted {\n",
              "  /* fitted */\n",
              "  border: var(--sklearn-color-fitted-level-1) 1pt solid;\n",
              "  color: var(--sklearn-color-fitted-level-1);\n",
              "}\n",
              "\n",
              "/* On hover */\n",
              "#sk-container-id-1 a.estimator_doc_link:hover {\n",
              "  /* unfitted */\n",
              "  background-color: var(--sklearn-color-unfitted-level-3);\n",
              "  color: var(--sklearn-color-background);\n",
              "  text-decoration: none;\n",
              "}\n",
              "\n",
              "#sk-container-id-1 a.estimator_doc_link.fitted:hover {\n",
              "  /* fitted */\n",
              "  background-color: var(--sklearn-color-fitted-level-3);\n",
              "}\n",
              "</style><div id=\"sk-container-id-1\" class=\"sk-top-container\"><div class=\"sk-text-repr-fallback\"><pre>LinearRegression()</pre><b>In a Jupyter environment, please rerun this cell to show the HTML representation or trust the notebook. <br />On GitHub, the HTML representation is unable to render, please try loading this page with nbviewer.org.</b></div><div class=\"sk-container\" hidden><div class=\"sk-item\"><div class=\"sk-estimator fitted sk-toggleable\"><input class=\"sk-toggleable__control sk-hidden--visually\" id=\"sk-estimator-id-1\" type=\"checkbox\" checked><label for=\"sk-estimator-id-1\" class=\"sk-toggleable__label fitted sk-toggleable__label-arrow fitted\">&nbsp;&nbsp;LinearRegression<a class=\"sk-estimator-doc-link fitted\" rel=\"noreferrer\" target=\"_blank\" href=\"https://scikit-learn.org/1.5/modules/generated/sklearn.linear_model.LinearRegression.html\">?<span>Documentation for LinearRegression</span></a><span class=\"sk-estimator-doc-link fitted\">i<span>Fitted</span></span></label><div class=\"sk-toggleable__content fitted\"><pre>LinearRegression()</pre></div> </div></div></div></div>"
            ],
            "text/plain": [
              "LinearRegression()"
            ]
          },
          "execution_count": 36,
          "metadata": {},
          "output_type": "execute_result"
        }
      ],
      "source": [
        "model.fit(x_train, y_train) # fit(allocate data) the linear regression"
      ]
    },
    {
      "cell_type": "code",
      "execution_count": 37,
      "metadata": {
        "colab": {
          "base_uri": "https://localhost:8080/"
        },
        "id": "wOeCMUnCFfMu",
        "outputId": "24aed926-4ea4-4fa1-86b4-8e6306956d4d"
      },
      "outputs": [
        {
          "data": {
            "text/plain": [
              "4.419176628968952"
            ]
          },
          "execution_count": 37,
          "metadata": {},
          "output_type": "execute_result"
        }
      ],
      "source": [
        "model.intercept_ #getting the intercept of the model"
      ]
    },
    {
      "cell_type": "code",
      "execution_count": 38,
      "metadata": {
        "colab": {
          "base_uri": "https://localhost:8080/"
        },
        "id": "LLxft3O0GKlX",
        "outputId": "bc22029a-be6c-41c9-d4b8-5d7a8bf87cb5"
      },
      "outputs": [
        {
          "data": {
            "text/plain": [
              "array([0.05373662, 0.1061416 , 0.00542157])"
            ]
          },
          "execution_count": 38,
          "metadata": {},
          "output_type": "execute_result"
        }
      ],
      "source": [
        "model.coef_ # getting the gradient values(slope)"
      ]
    },
    {
      "cell_type": "code",
      "execution_count": 39,
      "metadata": {
        "id": "ARUXKTcIGR9Y"
      },
      "outputs": [],
      "source": [
        "y_pred = model.predict(x_test) # predict the prediction using the value"
      ]
    },
    {
      "cell_type": "code",
      "execution_count": 40,
      "metadata": {
        "colab": {
          "base_uri": "https://localhost:8080/"
        },
        "id": "RrX2RhfTGaZb",
        "outputId": "8a0917b7-8a0d-4231-b4f7-d0c0a795c194"
      },
      "outputs": [
        {
          "name": "stdout",
          "output_type": "stream",
          "text": [
            "[ 9.24156185 20.88863168 16.35932288 19.99325582 21.56647985 16.18902526\n",
            " 13.55593173 15.44101643 20.68858089 20.87635961 12.30666696 20.5823859\n",
            "  8.2052026  16.8020073  10.49789975 10.04517517 16.27471961 14.58389375\n",
            " 17.15124514 12.54217786 18.5255145  12.14739801 20.26906823 17.68550321\n",
            " 16.70332653 21.47564231 20.03074293 10.79641986 19.02391131 14.77388184\n",
            " 13.01107071  9.11899998 12.07692797 16.60311172  8.43700724 13.99646169\n",
            "  9.96423595 14.29142558 16.80210584 17.11029489]\n"
          ]
        }
      ],
      "source": [
        "print(y_pred)"
      ]
    },
    {
      "cell_type": "code",
      "execution_count": 41,
      "metadata": {
        "colab": {
          "base_uri": "https://localhost:8080/"
        },
        "id": "B5v_QRbFGclP",
        "outputId": "5ebd3a8a-7e8b-497f-e1ca-279c204d9abf"
      },
      "outputs": [
        {
          "name": "stdout",
          "output_type": "stream",
          "text": [
            "[ 6.6 20.7 17.2 19.4 21.8 17.2 12.2 16.7 22.6 22.3 11.9 19.7  8.7 20.6\n",
            " 10.6 14.  17.3 16.7 18.  11.9 17.4 11.  22.4 17.1 20.5 24.7 19.6 11.3\n",
            " 20.7 15.2 13.6 11.3 11.6 19.9  8.4 14.2 13.2 16.7 16.5 20.2]\n"
          ]
        }
      ],
      "source": [
        "print(y_test)"
      ]
    },
    {
      "cell_type": "code",
      "execution_count": 42,
      "metadata": {
        "id": "t8UJ9zl_GeEM"
      },
      "outputs": [],
      "source": [
        "r_squared = r2_score(y_test, y_pred) #getting the R squared value for predicted data"
      ]
    },
    {
      "cell_type": "code",
      "execution_count": 43,
      "metadata": {
        "colab": {
          "base_uri": "https://localhost:8080/"
        },
        "id": "7PO4ph21GmGr",
        "outputId": "7c91bbf6-1431-401a-fe4d-9ff6cadf7085"
      },
      "outputs": [
        {
          "data": {
            "text/plain": [
              "0.8296690596780841"
            ]
          },
          "execution_count": 43,
          "metadata": {},
          "output_type": "execute_result"
        }
      ],
      "source": [
        "r_squared"
      ]
    },
    {
      "cell_type": "code",
      "execution_count": 44,
      "metadata": {
        "colab": {
          "base_uri": "https://localhost:8080/",
          "height": 472
        },
        "id": "mOolTCazGneY",
        "outputId": "4a8c443e-43bd-437e-aa6a-3e976798a51b"
      },
      "outputs": [
        {
          "data": {
            "image/png": "[encoded data removed]",
            "text/plain": [
              "<Figure size 640x480 with 1 Axes>"
            ]
          },
          "metadata": {},
          "output_type": "display_data"
        }
      ],
      "source": [
        "plt.scatter(y_test, y_pred, color = 'blue', label = 'Predictions')\n",
        "min_val = min(min(y_test), min(y_pred))\n",
        "max_val = max(max(y_test), max(y_pred))\n",
        "plt.plot([min_val, max_val], [min_val, max_val], color = 'red', linestyle = '--', label = 'Perfect Prediction')\n",
        "\n",
        "plt.xlabel('Actual Sales')\n",
        "plt.ylabel('Predicted Sales')\n",
        "plt.title('Actual vs Predicted Sales')\n",
        "plt.legend()\n",
        "plt.show()"
      ]
    },
    {
      "cell_type": "markdown",
      "metadata": {
        "id": "xwBHbpMnKB5O"
      },
      "source": [
        "# **Finding Residuals and Compare**"
      ]
    },
    {
      "cell_type": "code",
      "execution_count": 45,
      "metadata": {
        "id": "8918aRs6G2qQ"
      },
      "outputs": [],
      "source": [
        "residuals = y_test - y_pred # getting residuals"
      ]
    },
    {
      "cell_type": "code",
      "execution_count": 46,
      "metadata": {
        "colab": {
          "base_uri": "https://localhost:8080/"
        },
        "id": "Lp5tfwSxKd4z",
        "outputId": "6dc7ac9e-2cd9-42f3-f2e2-bec8f32d6fd9"
      },
      "outputs": [
        {
          "data": {
            "text/plain": [
              "array([-2.64156185, -0.18863168,  0.84067712, -0.59325582,  0.23352015,\n",
              "        1.01097474, -1.35593173,  1.25898357,  1.91141911,  1.42364039,\n",
              "       -0.40666696, -0.8823859 ,  0.4947974 ,  3.7979927 ,  0.10210025,\n",
              "        3.95482483,  1.02528039,  2.11610625,  0.84875486, -0.64217786,\n",
              "       -1.1255145 , -1.14739801,  2.13093177, -0.58550321,  3.79667347,\n",
              "        3.22435769, -0.43074293,  0.50358014,  1.67608869,  0.42611816,\n",
              "        0.58892929,  2.18100002, -0.47692797,  3.29688828, -0.03700724,\n",
              "        0.20353831,  3.23576405,  2.40857442, -0.30210584,  3.08970511])"
            ]
          },
          "execution_count": 46,
          "metadata": {},
          "output_type": "execute_result"
        }
      ],
      "source": [
        "residuals"
      ]
    },
    {
      "cell_type": "code",
      "execution_count": 47,
      "metadata": {
        "colab": {
          "base_uri": "https://localhost:8080/",
          "height": 447
        },
        "id": "SqjwswfuKfNn",
        "outputId": "f3225f04-50b9-4c84-bd1a-3679788a2fb7"
      },
      "outputs": [
        {
          "data": {
            "text/plain": [
              "<matplotlib.lines.Line2D at 0x201d53e9250>"
            ]
          },
          "execution_count": 47,
          "metadata": {},
          "output_type": "execute_result"
        },
        {
          "data": {
            "image/png": "[encoded data removed]",
            "text/plain": [
              "<Figure size 640x480 with 1 Axes>"
            ]
          },
          "metadata": {},
          "output_type": "display_data"
        }
      ],
      "source": [
        "plt.scatter(y_test, residuals, color = 'blue', label = 'Residuals')\n",
        "plt.axhline(y = 0, color = 'red', linestyle = '--') # add 0 line to compare residuals"
      ]
    },
    {
      "cell_type": "code",
      "execution_count": 48,
      "metadata": {
        "id": "srxL3I4wKun3"
      },
      "outputs": [],
      "source": [
        "MSE = mean_squared_error(y_test, y_pred)"
      ]
    },
    {
      "cell_type": "code",
      "execution_count": 49,
      "metadata": {
        "colab": {
          "base_uri": "https://localhost:8080/"
        },
        "id": "1R6S-VDCKyrp",
        "outputId": "ce93fa87-5386-4795-8db0-8e9a5ba4d8db"
      },
      "outputs": [
        {
          "data": {
            "text/plain": [
              "3.350988721329179"
            ]
          },
          "execution_count": 49,
          "metadata": {},
          "output_type": "execute_result"
        }
      ],
      "source": [
        "MSE"
      ]
    },
    {
      "cell_type": "code",
      "execution_count": 50,
      "metadata": {
        "id": "B0TYl4YyKzYM"
      },
      "outputs": [],
      "source": [
        "RMSE = np.sqrt(MSE)"
      ]
    },
    {
      "cell_type": "code",
      "execution_count": 51,
      "metadata": {
        "colab": {
          "base_uri": "https://localhost:8080/"
        },
        "id": "CdE3pTETK3XP",
        "outputId": "d5546557-4d1e-4e8f-e07f-fcf962f45c82"
      },
      "outputs": [
        {
          "data": {
            "text/plain": [
              "1.8305705999303001"
            ]
          },
          "execution_count": 51,
          "metadata": {},
          "output_type": "execute_result"
        }
      ],
      "source": [
        "RMSE"
      ]
    },
    {
      "cell_type": "code",
      "execution_count": 52,
      "metadata": {
        "colab": {
          "base_uri": "https://localhost:8080/",
          "height": 206
        },
        "id": "5Tzw7J9RK5Fz",
        "outputId": "2aac068c-17b6-4fb3-f7e4-24bc529cecce"
      },
      "outputs": [
        {
          "data": {
            "text/html": [
              "<div>\n",
              "<style scoped>\n",
              "    .dataframe tbody tr th:only-of-type {\n",
              "        vertical-align: middle;\n",
              "    }\n",
              "\n",
              "    .dataframe tbody tr th {\n",
              "        vertical-align: top;\n",
              "    }\n",
              "\n",
              "    .dataframe thead th {\n",
              "        text-align: right;\n",
              "    }\n",
              "</style>\n",
              "<table border=\"1\" class=\"dataframe\">\n",
              "  <thead>\n",
              "    <tr style=\"text-align: right;\">\n",
              "      <th></th>\n",
              "      <th>TV</th>\n",
              "      <th>Radio</th>\n",
              "      <th>Newspaper</th>\n",
              "      <th>Sales</th>\n",
              "    </tr>\n",
              "  </thead>\n",
              "  <tbody>\n",
              "    <tr>\n",
              "      <th>0</th>\n",
              "      <td>230.1</td>\n",
              "      <td>37.8</td>\n",
              "      <td>69.2</td>\n",
              "      <td>22.1</td>\n",
              "    </tr>\n",
              "    <tr>\n",
              "      <th>1</th>\n",
              "      <td>44.5</td>\n",
              "      <td>39.3</td>\n",
              "      <td>45.1</td>\n",
              "      <td>10.4</td>\n",
              "    </tr>\n",
              "    <tr>\n",
              "      <th>2</th>\n",
              "      <td>17.2</td>\n",
              "      <td>45.9</td>\n",
              "      <td>69.3</td>\n",
              "      <td>12.0</td>\n",
              "    </tr>\n",
              "    <tr>\n",
              "      <th>3</th>\n",
              "      <td>151.5</td>\n",
              "      <td>41.3</td>\n",
              "      <td>58.5</td>\n",
              "      <td>16.5</td>\n",
              "    </tr>\n",
              "    <tr>\n",
              "      <th>4</th>\n",
              "      <td>180.8</td>\n",
              "      <td>10.8</td>\n",
              "      <td>58.4</td>\n",
              "      <td>17.9</td>\n",
              "    </tr>\n",
              "  </tbody>\n",
              "</table>\n",
              "</div>"
            ],
            "text/plain": [
              "      TV  Radio  Newspaper  Sales\n",
              "0  230.1   37.8       69.2   22.1\n",
              "1   44.5   39.3       45.1   10.4\n",
              "2   17.2   45.9       69.3   12.0\n",
              "3  151.5   41.3       58.5   16.5\n",
              "4  180.8   10.8       58.4   17.9"
            ]
          },
          "execution_count": 52,
          "metadata": {},
          "output_type": "execute_result"
        }
      ],
      "source": [
        "advertising.head()"
      ]
    },
    {
      "cell_type": "markdown",
      "metadata": {
        "id": "TGQVfO8qLUxb"
      },
      "source": [
        "# **Getting a Prediction**"
      ]
    },
    {
      "cell_type": "code",
      "execution_count": 53,
      "metadata": {
        "id": "nn86pYKXLSIf"
      },
      "outputs": [],
      "source": [
        "arr = np.array([[230.1, 37.8, 69.2]]).reshape(1, 3)\n",
        "# we have to convert this to 2D array as out data set is 2D\n",
        "# This specifies that you want to reshape the original\n",
        "# 1-dimentional array into a 2-dimentional array with 1 row and 3 columns\n",
        "# The shape (1, 3) means 1 row and 3 columns\n",
        "# This reshape the array into 1x3 matric (1 row and 3 columns). or can use (1,-1)"
      ]
    },
    {
      "cell_type": "code",
      "execution_count": 54,
      "metadata": {
        "colab": {
          "base_uri": "https://localhost:8080/"
        },
        "id": "umpaQpLQMDMv",
        "outputId": "d6539e1a-b687-4e3a-acd2-20456c0aaed1"
      },
      "outputs": [
        {
          "data": {
            "text/plain": [
              "array([21.17129883])"
            ]
          },
          "execution_count": 54,
          "metadata": {},
          "output_type": "execute_result"
        }
      ],
      "source": [
        "model.predict(arr)"
      ]
    },
    {
      "cell_type": "markdown",
      "metadata": {},
      "source": [
        "**KNN Regression**"
      ]
    },
    {
      "cell_type": "code",
      "execution_count": 55,
      "metadata": {},
      "outputs": [],
      "source": [
        "x = advertising.iloc[:, :3] # we are selecting upto 3rd column for x. That means column 0,1,2\n",
        "y = advertising.iloc[:, 3] # we are selecting the 3rd column only and all the rows of 3rd column"
      ]
    },
    {
      "cell_type": "code",
      "execution_count": 56,
      "metadata": {},
      "outputs": [],
      "source": [
        "x_train, x_test, y_train, y_test = train_test_split(x, y, train_size = 0.8, test_size=0.2)\n",
        "# split data into train & test Data"
      ]
    },
    {
      "cell_type": "code",
      "execution_count": 58,
      "metadata": {},
      "outputs": [
        {
          "data": {
            "text/html": [
              "<style>#sk-container-id-2 {\n",
              "  /* Definition of color scheme common for light and dark mode */\n",
              "  --sklearn-color-text: black;\n",
              "  --sklearn-color-line: gray;\n",
              "  /* Definition of color scheme for unfitted estimators */\n",
              "  --sklearn-color-unfitted-level-0: #fff5e6;\n",
              "  --sklearn-color-unfitted-level-1: #f6e4d2;\n",
              "  --sklearn-color-unfitted-level-2: #ffe0b3;\n",
              "  --sklearn-color-unfitted-level-3: chocolate;\n",
              "  /* Definition of color scheme for fitted estimators */\n",
              "  --sklearn-color-fitted-level-0: #f0f8ff;\n",
              "  --sklearn-color-fitted-level-1: #d4ebff;\n",
              "  --sklearn-color-fitted-level-2: #b3dbfd;\n",
              "  --sklearn-color-fitted-level-3: cornflowerblue;\n",
              "\n",
              "  /* Specific color for light theme */\n",
              "  --sklearn-color-text-on-default-background: var(--sg-text-color, var(--theme-code-foreground, var(--jp-content-font-color1, black)));\n",
              "  --sklearn-color-background: var(--sg-background-color, var(--theme-background, var(--jp-layout-color0, white)));\n",
              "  --sklearn-color-border-box: var(--sg-text-color, var(--theme-code-foreground, var(--jp-content-font-color1, black)));\n",
              "  --sklearn-color-icon: #696969;\n",
              "\n",
              "  @media (prefers-color-scheme: dark) {\n",
              "    /* Redefinition of color scheme for dark theme */\n",
              "    --sklearn-color-text-on-default-background: var(--sg-text-color, var(--theme-code-foreground, var(--jp-content-font-color1, white)));\n",
              "    --sklearn-color-background: var(--sg-background-color, var(--theme-background, var(--jp-layout-color0, #111)));\n",
              "    --sklearn-color-border-box: var(--sg-text-color, var(--theme-code-foreground, var(--jp-content-font-color1, white)));\n",
              "    --sklearn-color-icon: #878787;\n",
              "  }\n",
              "}\n",
              "\n",
              "#sk-container-id-2 {\n",
              "  color: var(--sklearn-color-text);\n",
              "}\n",
              "\n",
              "#sk-container-id-2 pre {\n",
              "  padding: 0;\n",
              "}\n",
              "\n",
              "#sk-container-id-2 input.sk-hidden--visually {\n",
              "  border: 0;\n",
              "  clip: rect(1px 1px 1px 1px);\n",
              "  clip: rect(1px, 1px, 1px, 1px);\n",
              "  height: 1px;\n",
              "  margin: -1px;\n",
              "  overflow: hidden;\n",
              "  padding: 0;\n",
              "  position: absolute;\n",
              "  width: 1px;\n",
              "}\n",
              "\n",
              "#sk-container-id-2 div.sk-dashed-wrapped {\n",
              "  border: 1px dashed var(--sklearn-color-line);\n",
              "  margin: 0 0.4em 0.5em 0.4em;\n",
              "  box-sizing: border-box;\n",
              "  padding-bottom: 0.4em;\n",
              "  background-color: var(--sklearn-color-background);\n",
              "}\n",
              "\n",
              "#sk-container-id-2 div.sk-container {\n",
              "  /* jupyter's `normalize.less` sets `[hidden] { display: none; }`\n",
              "     but bootstrap.min.css set `[hidden] { display: none !important; }`\n",
              "     so we also need the `!important` here to be able to override the\n",
              "     default hidden behavior on the sphinx rendered scikit-learn.org.\n",
              "     See: https://github.com/scikit-learn/scikit-learn/issues/21755 */\n",
              "  display: inline-block !important;\n",
              "  position: relative;\n",
              "}\n",
              "\n",
              "#sk-container-id-2 div.sk-text-repr-fallback {\n",
              "  display: none;\n",
              "}\n",
              "\n",
              "div.sk-parallel-item,\n",
              "div.sk-serial,\n",
              "div.sk-item {\n",
              "  /* draw centered vertical line to link estimators */\n",
              "  background-image: linear-gradient(var(--sklearn-color-text-on-default-background), var(--sklearn-color-text-on-default-background));\n",
              "  background-size: 2px 100%;\n",
              "  background-repeat: no-repeat;\n",
              "  background-position: center center;\n",
              "}\n",
              "\n",
              "/* Parallel-specific style estimator block */\n",
              "\n",
              "#sk-container-id-2 div.sk-parallel-item::after {\n",
              "  content: \"\";\n",
              "  width: 100%;\n",
              "  border-bottom: 2px solid var(--sklearn-color-text-on-default-background);\n",
              "  flex-grow: 1;\n",
              "}\n",
              "\n",
              "#sk-container-id-2 div.sk-parallel {\n",
              "  display: flex;\n",
              "  align-items: stretch;\n",
              "  justify-content: center;\n",
              "  background-color: var(--sklearn-color-background);\n",
              "  position: relative;\n",
              "}\n",
              "\n",
              "#sk-container-id-2 div.sk-parallel-item {\n",
              "  display: flex;\n",
              "  flex-direction: column;\n",
              "}\n",
              "\n",
              "#sk-container-id-2 div.sk-parallel-item:first-child::after {\n",
              "  align-self: flex-end;\n",
              "  width: 50%;\n",
              "}\n",
              "\n",
              "#sk-container-id-2 div.sk-parallel-item:last-child::after {\n",
              "  align-self: flex-start;\n",
              "  width: 50%;\n",
              "}\n",
              "\n",
              "#sk-container-id-2 div.sk-parallel-item:only-child::after {\n",
              "  width: 0;\n",
              "}\n",
              "\n",
              "/* Serial-specific style estimator block */\n",
              "\n",
              "#sk-container-id-2 div.sk-serial {\n",
              "  display: flex;\n",
              "  flex-direction: column;\n",
              "  align-items: center;\n",
              "  background-color: var(--sklearn-color-background);\n",
              "  padding-right: 1em;\n",
              "  padding-left: 1em;\n",
              "}\n",
              "\n",
              "\n",
              "/* Toggleable style: style used for estimator/Pipeline/ColumnTransformer box that is\n",
              "clickable and can be expanded/collapsed.\n",
              "- Pipeline and ColumnTransformer use this feature and define the default style\n",
              "- Estimators will overwrite some part of the style using the `sk-estimator` class\n",
              "*/\n",
              "\n",
              "/* Pipeline and ColumnTransformer style (default) */\n",
              "\n",
              "#sk-container-id-2 div.sk-toggleable {\n",
              "  /* Default theme specific background. It is overwritten whether we have a\n",
              "  specific estimator or a Pipeline/ColumnTransformer */\n",
              "  background-color: var(--sklearn-color-background);\n",
              "}\n",
              "\n",
              "/* Toggleable label */\n",
              "#sk-container-id-2 label.sk-toggleable__label {\n",
              "  cursor: pointer;\n",
              "  display: block;\n",
              "  width: 100%;\n",
              "  margin-bottom: 0;\n",
              "  padding: 0.5em;\n",
              "  box-sizing: border-box;\n",
              "  text-align: center;\n",
              "}\n",
              "\n",
              "#sk-container-id-2 label.sk-toggleable__label-arrow:before {\n",
              "  /* Arrow on the left of the label */\n",
              "  content: \"▸\";\n",
              "  float: left;\n",
              "  margin-right: 0.25em;\n",
              "  color: var(--sklearn-color-icon);\n",
              "}\n",
              "\n",
              "#sk-container-id-2 label.sk-toggleable__label-arrow:hover:before {\n",
              "  color: var(--sklearn-color-text);\n",
              "}\n",
              "\n",
              "/* Toggleable content - dropdown */\n",
              "\n",
              "#sk-container-id-2 div.sk-toggleable__content {\n",
              "  max-height: 0;\n",
              "  max-width: 0;\n",
              "  overflow: hidden;\n",
              "  text-align: left;\n",
              "  /* unfitted */\n",
              "  background-color: var(--sklearn-color-unfitted-level-0);\n",
              "}\n",
              "\n",
              "#sk-container-id-2 div.sk-toggleable__content.fitted {\n",
              "  /* fitted */\n",
              "  background-color: var(--sklearn-color-fitted-level-0);\n",
              "}\n",
              "\n",
              "#sk-container-id-2 div.sk-toggleable__content pre {\n",
              "  margin: 0.2em;\n",
              "  border-radius: 0.25em;\n",
              "  color: var(--sklearn-color-text);\n",
              "  /* unfitted */\n",
              "  background-color: var(--sklearn-color-unfitted-level-0);\n",
              "}\n",
              "\n",
              "#sk-container-id-2 div.sk-toggleable__content.fitted pre {\n",
              "  /* unfitted */\n",
              "  background-color: var(--sklearn-color-fitted-level-0);\n",
              "}\n",
              "\n",
              "#sk-container-id-2 input.sk-toggleable__control:checked~div.sk-toggleable__content {\n",
              "  /* Expand drop-down */\n",
              "  max-height: 200px;\n",
              "  max-width: 100%;\n",
              "  overflow: auto;\n",
              "}\n",
              "\n",
              "#sk-container-id-2 input.sk-toggleable__control:checked~label.sk-toggleable__label-arrow:before {\n",
              "  content: \"▾\";\n",
              "}\n",
              "\n",
              "/* Pipeline/ColumnTransformer-specific style */\n",
              "\n",
              "#sk-container-id-2 div.sk-label input.sk-toggleable__control:checked~label.sk-toggleable__label {\n",
              "  color: var(--sklearn-color-text);\n",
              "  background-color: var(--sklearn-color-unfitted-level-2);\n",
              "}\n",
              "\n",
              "#sk-container-id-2 div.sk-label.fitted input.sk-toggleable__control:checked~label.sk-toggleable__label {\n",
              "  background-color: var(--sklearn-color-fitted-level-2);\n",
              "}\n",
              "\n",
              "/* Estimator-specific style */\n",
              "\n",
              "/* Colorize estimator box */\n",
              "#sk-container-id-2 div.sk-estimator input.sk-toggleable__control:checked~label.sk-toggleable__label {\n",
              "  /* unfitted */\n",
              "  background-color: var(--sklearn-color-unfitted-level-2);\n",
              "}\n",
              "\n",
              "#sk-container-id-2 div.sk-estimator.fitted input.sk-toggleable__control:checked~label.sk-toggleable__label {\n",
              "  /* fitted */\n",
              "  background-color: var(--sklearn-color-fitted-level-2);\n",
              "}\n",
              "\n",
              "#sk-container-id-2 div.sk-label label.sk-toggleable__label,\n",
              "#sk-container-id-2 div.sk-label label {\n",
              "  /* The background is the default theme color */\n",
              "  color: var(--sklearn-color-text-on-default-background);\n",
              "}\n",
              "\n",
              "/* On hover, darken the color of the background */\n",
              "#sk-container-id-2 div.sk-label:hover label.sk-toggleable__label {\n",
              "  color: var(--sklearn-color-text);\n",
              "  background-color: var(--sklearn-color-unfitted-level-2);\n",
              "}\n",
              "\n",
              "/* Label box, darken color on hover, fitted */\n",
              "#sk-container-id-2 div.sk-label.fitted:hover label.sk-toggleable__label.fitted {\n",
              "  color: var(--sklearn-color-text);\n",
              "  background-color: var(--sklearn-color-fitted-level-2);\n",
              "}\n",
              "\n",
              "/* Estimator label */\n",
              "\n",
              "#sk-container-id-2 div.sk-label label {\n",
              "  font-family: monospace;\n",
              "  font-weight: bold;\n",
              "  display: inline-block;\n",
              "  line-height: 1.2em;\n",
              "}\n",
              "\n",
              "#sk-container-id-2 div.sk-label-container {\n",
              "  text-align: center;\n",
              "}\n",
              "\n",
              "/* Estimator-specific */\n",
              "#sk-container-id-2 div.sk-estimator {\n",
              "  font-family: monospace;\n",
              "  border: 1px dotted var(--sklearn-color-border-box);\n",
              "  border-radius: 0.25em;\n",
              "  box-sizing: border-box;\n",
              "  margin-bottom: 0.5em;\n",
              "  /* unfitted */\n",
              "  background-color: var(--sklearn-color-unfitted-level-0);\n",
              "}\n",
              "\n",
              "#sk-container-id-2 div.sk-estimator.fitted {\n",
              "  /* fitted */\n",
              "  background-color: var(--sklearn-color-fitted-level-0);\n",
              "}\n",
              "\n",
              "/* on hover */\n",
              "#sk-container-id-2 div.sk-estimator:hover {\n",
              "  /* unfitted */\n",
              "  background-color: var(--sklearn-color-unfitted-level-2);\n",
              "}\n",
              "\n",
              "#sk-container-id-2 div.sk-estimator.fitted:hover {\n",
              "  /* fitted */\n",
              "  background-color: var(--sklearn-color-fitted-level-2);\n",
              "}\n",
              "\n",
              "/* Specification for estimator info (e.g. \"i\" and \"?\") */\n",
              "\n",
              "/* Common style for \"i\" and \"?\" */\n",
              "\n",
              ".sk-estimator-doc-link,\n",
              "a:link.sk-estimator-doc-link,\n",
              "a:visited.sk-estimator-doc-link {\n",
              "  float: right;\n",
              "  font-size: smaller;\n",
              "  line-height: 1em;\n",
              "  font-family: monospace;\n",
              "  background-color: var(--sklearn-color-background);\n",
              "  border-radius: 1em;\n",
              "  height: 1em;\n",
              "  width: 1em;\n",
              "  text-decoration: none !important;\n",
              "  margin-left: 1ex;\n",
              "  /* unfitted */\n",
              "  border: var(--sklearn-color-unfitted-level-1) 1pt solid;\n",
              "  color: var(--sklearn-color-unfitted-level-1);\n",
              "}\n",
              "\n",
              ".sk-estimator-doc-link.fitted,\n",
              "a:link.sk-estimator-doc-link.fitted,\n",
              "a:visited.sk-estimator-doc-link.fitted {\n",
              "  /* fitted */\n",
              "  border: var(--sklearn-color-fitted-level-1) 1pt solid;\n",
              "  color: var(--sklearn-color-fitted-level-1);\n",
              "}\n",
              "\n",
              "/* On hover */\n",
              "div.sk-estimator:hover .sk-estimator-doc-link:hover,\n",
              ".sk-estimator-doc-link:hover,\n",
              "div.sk-label-container:hover .sk-estimator-doc-link:hover,\n",
              ".sk-estimator-doc-link:hover {\n",
              "  /* unfitted */\n",
              "  background-color: var(--sklearn-color-unfitted-level-3);\n",
              "  color: var(--sklearn-color-background);\n",
              "  text-decoration: none;\n",
              "}\n",
              "\n",
              "div.sk-estimator.fitted:hover .sk-estimator-doc-link.fitted:hover,\n",
              ".sk-estimator-doc-link.fitted:hover,\n",
              "div.sk-label-container:hover .sk-estimator-doc-link.fitted:hover,\n",
              ".sk-estimator-doc-link.fitted:hover {\n",
              "  /* fitted */\n",
              "  background-color: var(--sklearn-color-fitted-level-3);\n",
              "  color: var(--sklearn-color-background);\n",
              "  text-decoration: none;\n",
              "}\n",
              "\n",
              "/* Span, style for the box shown on hovering the info icon */\n",
              ".sk-estimator-doc-link span {\n",
              "  display: none;\n",
              "  z-index: 9999;\n",
              "  position: relative;\n",
              "  font-weight: normal;\n",
              "  right: .2ex;\n",
              "  padding: .5ex;\n",
              "  margin: .5ex;\n",
              "  width: min-content;\n",
              "  min-width: 20ex;\n",
              "  max-width: 50ex;\n",
              "  color: var(--sklearn-color-text);\n",
              "  box-shadow: 2pt 2pt 4pt #999;\n",
              "  /* unfitted */\n",
              "  background: var(--sklearn-color-unfitted-level-0);\n",
              "  border: .5pt solid var(--sklearn-color-unfitted-level-3);\n",
              "}\n",
              "\n",
              ".sk-estimator-doc-link.fitted span {\n",
              "  /* fitted */\n",
              "  background: var(--sklearn-color-fitted-level-0);\n",
              "  border: var(--sklearn-color-fitted-level-3);\n",
              "}\n",
              "\n",
              ".sk-estimator-doc-link:hover span {\n",
              "  display: block;\n",
              "}\n",
              "\n",
              "/* \"?\"-specific style due to the `<a>` HTML tag */\n",
              "\n",
              "#sk-container-id-2 a.estimator_doc_link {\n",
              "  float: right;\n",
              "  font-size: 1rem;\n",
              "  line-height: 1em;\n",
              "  font-family: monospace;\n",
              "  background-color: var(--sklearn-color-background);\n",
              "  border-radius: 1rem;\n",
              "  height: 1rem;\n",
              "  width: 1rem;\n",
              "  text-decoration: none;\n",
              "  /* unfitted */\n",
              "  color: var(--sklearn-color-unfitted-level-1);\n",
              "  border: var(--sklearn-color-unfitted-level-1) 1pt solid;\n",
              "}\n",
              "\n",
              "#sk-container-id-2 a.estimator_doc_link.fitted {\n",
              "  /* fitted */\n",
              "  border: var(--sklearn-color-fitted-level-1) 1pt solid;\n",
              "  color: var(--sklearn-color-fitted-level-1);\n",
              "}\n",
              "\n",
              "/* On hover */\n",
              "#sk-container-id-2 a.estimator_doc_link:hover {\n",
              "  /* unfitted */\n",
              "  background-color: var(--sklearn-color-unfitted-level-3);\n",
              "  color: var(--sklearn-color-background);\n",
              "  text-decoration: none;\n",
              "}\n",
              "\n",
              "#sk-container-id-2 a.estimator_doc_link.fitted:hover {\n",
              "  /* fitted */\n",
              "  background-color: var(--sklearn-color-fitted-level-3);\n",
              "}\n",
              "</style><div id=\"sk-container-id-2\" class=\"sk-top-container\"><div class=\"sk-text-repr-fallback\"><pre>KNeighborsRegressor()</pre><b>In a Jupyter environment, please rerun this cell to show the HTML representation or trust the notebook. <br />On GitHub, the HTML representation is unable to render, please try loading this page with nbviewer.org.</b></div><div class=\"sk-container\" hidden><div class=\"sk-item\"><div class=\"sk-estimator fitted sk-toggleable\"><input class=\"sk-toggleable__control sk-hidden--visually\" id=\"sk-estimator-id-2\" type=\"checkbox\" checked><label for=\"sk-estimator-id-2\" class=\"sk-toggleable__label fitted sk-toggleable__label-arrow fitted\">&nbsp;&nbsp;KNeighborsRegressor<a class=\"sk-estimator-doc-link fitted\" rel=\"noreferrer\" target=\"_blank\" href=\"https://scikit-learn.org/1.5/modules/generated/sklearn.neighbors.KNeighborsRegressor.html\">?<span>Documentation for KNeighborsRegressor</span></a><span class=\"sk-estimator-doc-link fitted\">i<span>Fitted</span></span></label><div class=\"sk-toggleable__content fitted\"><pre>KNeighborsRegressor()</pre></div> </div></div></div></div>"
            ],
            "text/plain": [
              "KNeighborsRegressor()"
            ]
          },
          "execution_count": 58,
          "metadata": {},
          "output_type": "execute_result"
        }
      ],
      "source": [
        "model = KNeighborsRegressor(n_neighbors = 5)\n",
        "model.fit(x_train, y_train)"
      ]
    },
    {
      "cell_type": "code",
      "execution_count": 59,
      "metadata": {},
      "outputs": [],
      "source": [
        "y_pred = model.predict(x_test)"
      ]
    },
    {
      "cell_type": "code",
      "execution_count": 60,
      "metadata": {},
      "outputs": [
        {
          "data": {
            "text/plain": [
              "0.9400758521207799"
            ]
          },
          "execution_count": 60,
          "metadata": {},
          "output_type": "execute_result"
        }
      ],
      "source": [
        "r_squared = r2_score(y_test, y_pred) #getting the R squared value for predicted data\n",
        "r_squared"
      ]
    },
    {
      "cell_type": "code",
      "execution_count": null,
      "metadata": {},
      "outputs": [],
      "source": []
    }
  ],
  "metadata": {
    "colab": {
      "provenance": []
    },
    "kernelspec": {
      "display_name": "Python 3",
      "name": "python3"
    },
    "language_info": {
      "codemirror_mode": {
        "name": "ipython",
        "version": 3
      },
      "file_extension": ".py",
      "mimetype": "text/x-python",
      "name": "python",
      "nbconvert_exporter": "python",
      "pygments_lexer": "ipython3",
      "version": "3.12.9"
    }
  },
  "nbformat": 4,
  "nbformat_minor": 0
}
