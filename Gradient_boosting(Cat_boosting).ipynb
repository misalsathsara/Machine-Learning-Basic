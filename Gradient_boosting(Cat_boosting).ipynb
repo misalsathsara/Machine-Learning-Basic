{
 "cells": [
  {
   "cell_type": "markdown",
   "metadata": {},
   "source": [
    "**CatBoost is a gradient boosting algorithm  optimized for handling categorical data efficiently, offering high performance with minimal preprocessing**"
   ]
  },
  {
   "cell_type": "code",
   "execution_count": 53,
   "metadata": {},
   "outputs": [
    {
     "name": "stdout",
     "output_type": "stream",
     "text": [
      "Defaulting to user installation because normal site-packages is not writeable\n",
      "Requirement already satisfied: catboost in c:\\users\\pc\\appdata\\local\\packages\\pythonsoftwarefoundation.python.3.12_qbz5n2kfra8p0\\localcache\\local-packages\\python312\\site-packages (1.2.7)\n",
      "Requirement already satisfied: graphviz in c:\\users\\pc\\appdata\\local\\packages\\pythonsoftwarefoundation.python.3.12_qbz5n2kfra8p0\\localcache\\local-packages\\python312\\site-packages (from catboost) (0.20.3)\n",
      "Requirement already satisfied: matplotlib in c:\\users\\pc\\appdata\\local\\packages\\pythonsoftwarefoundation.python.3.12_qbz5n2kfra8p0\\localcache\\local-packages\\python312\\site-packages (from catboost) (3.10.1)\n",
      "Requirement already satisfied: numpy<2.0,>=1.16.0 in c:\\users\\pc\\appdata\\local\\packages\\pythonsoftwarefoundation.python.3.12_qbz5n2kfra8p0\\localcache\\local-packages\\python312\\site-packages (from catboost) (1.26.4)\n",
      "Requirement already satisfied: pandas>=0.24 in c:\\users\\pc\\appdata\\local\\packages\\pythonsoftwarefoundation.python.3.12_qbz5n2kfra8p0\\localcache\\local-packages\\python312\\site-packages (from catboost) (2.2.3)\n",
      "Requirement already satisfied: scipy in c:\\users\\pc\\appdata\\local\\packages\\pythonsoftwarefoundation.python.3.12_qbz5n2kfra8p0\\localcache\\local-packages\\python312\\site-packages (from catboost) (1.13.1)\n",
      "Requirement already satisfied: plotly in c:\\users\\pc\\appdata\\local\\packages\\pythonsoftwarefoundation.python.3.12_qbz5n2kfra8p0\\localcache\\local-packages\\python312\\site-packages (from catboost) (6.0.0)\n",
      "Requirement already satisfied: six in c:\\users\\pc\\appdata\\local\\packages\\pythonsoftwarefoundation.python.3.12_qbz5n2kfra8p0\\localcache\\local-packages\\python312\\site-packages (from catboost) (1.17.0)\n",
      "Requirement already satisfied: python-dateutil>=2.8.2 in c:\\users\\pc\\appdata\\local\\packages\\pythonsoftwarefoundation.python.3.12_qbz5n2kfra8p0\\localcache\\local-packages\\python312\\site-packages (from pandas>=0.24->catboost) (2.9.0.post0)\n",
      "Requirement already satisfied: pytz>=2020.1 in c:\\users\\pc\\appdata\\local\\packages\\pythonsoftwarefoundation.python.3.12_qbz5n2kfra8p0\\localcache\\local-packages\\python312\\site-packages (from pandas>=0.24->catboost) (2025.1)\n",
      "Requirement already satisfied: tzdata>=2022.7 in c:\\users\\pc\\appdata\\local\\packages\\pythonsoftwarefoundation.python.3.12_qbz5n2kfra8p0\\localcache\\local-packages\\python312\\site-packages (from pandas>=0.24->catboost) (2025.1)\n",
      "Requirement already satisfied: contourpy>=1.0.1 in c:\\users\\pc\\appdata\\local\\packages\\pythonsoftwarefoundation.python.3.12_qbz5n2kfra8p0\\localcache\\local-packages\\python312\\site-packages (from matplotlib->catboost) (1.3.1)\n",
      "Requirement already satisfied: cycler>=0.10 in c:\\users\\pc\\appdata\\local\\packages\\pythonsoftwarefoundation.python.3.12_qbz5n2kfra8p0\\localcache\\local-packages\\python312\\site-packages (from matplotlib->catboost) (0.12.1)\n",
      "Requirement already satisfied: fonttools>=4.22.0 in c:\\users\\pc\\appdata\\local\\packages\\pythonsoftwarefoundation.python.3.12_qbz5n2kfra8p0\\localcache\\local-packages\\python312\\site-packages (from matplotlib->catboost) (4.56.0)\n",
      "Requirement already satisfied: kiwisolver>=1.3.1 in c:\\users\\pc\\appdata\\local\\packages\\pythonsoftwarefoundation.python.3.12_qbz5n2kfra8p0\\localcache\\local-packages\\python312\\site-packages (from matplotlib->catboost) (1.4.8)\n",
      "Requirement already satisfied: packaging>=20.0 in c:\\users\\pc\\appdata\\local\\packages\\pythonsoftwarefoundation.python.3.12_qbz5n2kfra8p0\\localcache\\local-packages\\python312\\site-packages (from matplotlib->catboost) (24.2)\n",
      "Requirement already satisfied: pillow>=8 in c:\\users\\pc\\appdata\\local\\packages\\pythonsoftwarefoundation.python.3.12_qbz5n2kfra8p0\\localcache\\local-packages\\python312\\site-packages (from matplotlib->catboost) (11.1.0)\n",
      "Requirement already satisfied: pyparsing>=2.3.1 in c:\\users\\pc\\appdata\\local\\packages\\pythonsoftwarefoundation.python.3.12_qbz5n2kfra8p0\\localcache\\local-packages\\python312\\site-packages (from matplotlib->catboost) (3.2.1)\n",
      "Requirement already satisfied: narwhals>=1.15.1 in c:\\users\\pc\\appdata\\local\\packages\\pythonsoftwarefoundation.python.3.12_qbz5n2kfra8p0\\localcache\\local-packages\\python312\\site-packages (from plotly->catboost) (1.29.0)\n",
      "Note: you may need to restart the kernel to use updated packages.\n"
     ]
    }
   ],
   "source": [
    "pip install catboost"
   ]
  },
  {
   "cell_type": "code",
   "execution_count": 54,
   "metadata": {},
   "outputs": [
    {
     "name": "stdout",
     "output_type": "stream",
     "text": [
      "1.2.7\n"
     ]
    }
   ],
   "source": [
    "import catboost\n",
    "print(catboost.__version__)"
   ]
  },
  {
   "cell_type": "code",
   "execution_count": 55,
   "metadata": {},
   "outputs": [],
   "source": [
    "from catboost import CatBoostRegressor, CatBoostClassifier\n",
    "from sklearn.model_selection import train_test_split\n",
    "from sklearn.preprocessing import LabelEncoder\n",
    "from sklearn.metrics import mean_squared_error, accuracy_score\n",
    "import pandas as pd\n",
    "import numpy as np"
   ]
  },
  {
   "cell_type": "code",
   "execution_count": 56,
   "metadata": {},
   "outputs": [],
   "source": [
    "df = pd.read_csv('datasets/Fuel_Consumption.csv')"
   ]
  },
  {
   "cell_type": "code",
   "execution_count": 57,
   "metadata": {},
   "outputs": [
    {
     "data": {
      "text/html": [
       "<div>\n",
       "<style scoped>\n",
       "    .dataframe tbody tr th:only-of-type {\n",
       "        vertical-align: middle;\n",
       "    }\n",
       "\n",
       "    .dataframe tbody tr th {\n",
       "        vertical-align: top;\n",
       "    }\n",
       "\n",
       "    .dataframe thead th {\n",
       "        text-align: right;\n",
       "    }\n",
       "</style>\n",
       "<table border=\"1\" class=\"dataframe\">\n",
       "  <thead>\n",
       "    <tr style=\"text-align: right;\">\n",
       "      <th></th>\n",
       "      <th>Year</th>\n",
       "      <th>MAKE</th>\n",
       "      <th>MODEL</th>\n",
       "      <th>VEHICLE CLASS</th>\n",
       "      <th>ENGINE SIZE</th>\n",
       "      <th>CYLINDERS</th>\n",
       "      <th>TRANSMISSION</th>\n",
       "      <th>FUEL</th>\n",
       "      <th>FUEL CONSUMPTION</th>\n",
       "      <th>COEMISSIONS</th>\n",
       "    </tr>\n",
       "  </thead>\n",
       "  <tbody>\n",
       "    <tr>\n",
       "      <th>0</th>\n",
       "      <td>2000</td>\n",
       "      <td>ACURA</td>\n",
       "      <td>1.6EL</td>\n",
       "      <td>COMPACT</td>\n",
       "      <td>1.6</td>\n",
       "      <td>4</td>\n",
       "      <td>A4</td>\n",
       "      <td>X</td>\n",
       "      <td>10.5</td>\n",
       "      <td>216</td>\n",
       "    </tr>\n",
       "    <tr>\n",
       "      <th>1</th>\n",
       "      <td>2000</td>\n",
       "      <td>ACURA</td>\n",
       "      <td>1.6EL</td>\n",
       "      <td>COMPACT</td>\n",
       "      <td>1.6</td>\n",
       "      <td>4</td>\n",
       "      <td>M5</td>\n",
       "      <td>X</td>\n",
       "      <td>9.8</td>\n",
       "      <td>205</td>\n",
       "    </tr>\n",
       "    <tr>\n",
       "      <th>2</th>\n",
       "      <td>2000</td>\n",
       "      <td>ACURA</td>\n",
       "      <td>3.2TL</td>\n",
       "      <td>MID-SIZE</td>\n",
       "      <td>3.2</td>\n",
       "      <td>6</td>\n",
       "      <td>AS5</td>\n",
       "      <td>Z</td>\n",
       "      <td>13.7</td>\n",
       "      <td>265</td>\n",
       "    </tr>\n",
       "    <tr>\n",
       "      <th>3</th>\n",
       "      <td>2000</td>\n",
       "      <td>ACURA</td>\n",
       "      <td>3.5RL</td>\n",
       "      <td>MID-SIZE</td>\n",
       "      <td>3.5</td>\n",
       "      <td>6</td>\n",
       "      <td>A4</td>\n",
       "      <td>Z</td>\n",
       "      <td>15.0</td>\n",
       "      <td>301</td>\n",
       "    </tr>\n",
       "    <tr>\n",
       "      <th>4</th>\n",
       "      <td>2000</td>\n",
       "      <td>ACURA</td>\n",
       "      <td>INTEGRA</td>\n",
       "      <td>SUBCOMPACT</td>\n",
       "      <td>1.8</td>\n",
       "      <td>4</td>\n",
       "      <td>A4</td>\n",
       "      <td>X</td>\n",
       "      <td>11.4</td>\n",
       "      <td>230</td>\n",
       "    </tr>\n",
       "  </tbody>\n",
       "</table>\n",
       "</div>"
      ],
      "text/plain": [
       "   Year   MAKE    MODEL VEHICLE CLASS  ENGINE SIZE  CYLINDERS TRANSMISSION  \\\n",
       "0  2000  ACURA    1.6EL       COMPACT          1.6          4           A4   \n",
       "1  2000  ACURA    1.6EL       COMPACT          1.6          4           M5   \n",
       "2  2000  ACURA    3.2TL      MID-SIZE          3.2          6          AS5   \n",
       "3  2000  ACURA    3.5RL      MID-SIZE          3.5          6           A4   \n",
       "4  2000  ACURA  INTEGRA    SUBCOMPACT          1.8          4           A4   \n",
       "\n",
       "  FUEL  FUEL CONSUMPTION  COEMISSIONS   \n",
       "0    X              10.5           216  \n",
       "1    X               9.8           205  \n",
       "2    Z              13.7           265  \n",
       "3    Z              15.0           301  \n",
       "4    X              11.4           230  "
      ]
     },
     "execution_count": 57,
     "metadata": {},
     "output_type": "execute_result"
    }
   ],
   "source": [
    "df.head()"
   ]
  },
  {
   "cell_type": "code",
   "execution_count": 58,
   "metadata": {},
   "outputs": [
    {
     "name": "stdout",
     "output_type": "stream",
     "text": [
      "Index(['Year', 'MAKE', 'MODEL', 'VEHICLE CLASS', 'ENGINE SIZE', 'CYLINDERS',\n",
      "       'TRANSMISSION', 'FUEL', 'FUEL CONSUMPTION', 'COEMISSIONS '],\n",
      "      dtype='object')\n"
     ]
    }
   ],
   "source": [
    "print(df.columns)"
   ]
  },
  {
   "cell_type": "code",
   "execution_count": 59,
   "metadata": {},
   "outputs": [],
   "source": [
    "# Trim the spaces from column names\n",
    "df.columns = df.columns.str.strip()"
   ]
  },
  {
   "cell_type": "code",
   "execution_count": 60,
   "metadata": {},
   "outputs": [
    {
     "name": "stdout",
     "output_type": "stream",
     "text": [
      "Categorical features indices: [1, 2, 3, 6, 7]\n"
     ]
    }
   ],
   "source": [
    "# identify categorical columns\n",
    "categorical_features = ['MAKE', 'MODEL', 'VEHICLE CLASS', 'TRANSMISSION', 'FUEL']\n",
    "\n",
    "# Get the indices of categorical features\n",
    "cat_feature_indices = [df.columns.get_loc(col) for col in categorical_features]\n",
    "\n",
    "print('Categorical features indices:', cat_feature_indices)"
   ]
  },
  {
   "cell_type": "code",
   "execution_count": 61,
   "metadata": {},
   "outputs": [],
   "source": [
    "# Define the feature and target\n",
    "x =  df.drop(columns=[\"FUEL CONSUMPTION\", \"COEMISSIONS\"])\n",
    "y_regression = df[\"FUEL CONSUMPTION\"]\n",
    "y_classification = pd.qcut(df[\"COEMISSIONS\"], q=3, labels=[0, 1, 2])"
   ]
  },
  {
   "cell_type": "code",
   "execution_count": 62,
   "metadata": {},
   "outputs": [],
   "source": [
    "# split into train and test\n",
    "x_train_reg, x_test_reg, y_train_reg, y_test_reg = train_test_split(x, y_regression, test_size=0.2, random_state=100)\n",
    "x_train_clf, x_test_clf, y_train_clf, y_test_clf = train_test_split(x, y_classification, test_size=0.2, random_state=100)"
   ]
  },
  {
   "cell_type": "code",
   "execution_count": 63,
   "metadata": {},
   "outputs": [],
   "source": [
    "regressor = CatBoostRegressor(\n",
    "    iterations=100, \n",
    "    learning_rate=0.1, \n",
    "    depth=6, \n",
    "    cat_features=cat_feature_indices, \n",
    "    verbose=10\n",
    ")"
   ]
  },
  {
   "cell_type": "code",
   "execution_count": 64,
   "metadata": {},
   "outputs": [],
   "source": [
    "# iteration = 100: The number of boosting iterations (trees) to build\n",
    "# Learning_rate = 0.1: The step size for gradient descent during training\n",
    "# Depth = 6: The maximum depth of the decision tree\n",
    "# cat_features = cat_feature_indices: Specifies the indices of categorical features in the dataset\n",
    "# verbose = 10:  Logs training progress every 10 iterations"
   ]
  },
  {
   "cell_type": "code",
   "execution_count": 65,
   "metadata": {},
   "outputs": [
    {
     "name": "stdout",
     "output_type": "stream",
     "text": [
      "0:\tlearn: 3.1438154\ttotal: 17.5ms\tremaining: 1.73s\n",
      "10:\tlearn: 1.9059096\ttotal: 219ms\tremaining: 1.77s\n",
      "20:\tlearn: 1.3641968\ttotal: 444ms\tremaining: 1.67s\n",
      "30:\tlearn: 1.1679032\ttotal: 663ms\tremaining: 1.48s\n",
      "40:\tlearn: 1.0532805\ttotal: 880ms\tremaining: 1.27s\n",
      "50:\tlearn: 0.9970393\ttotal: 1.1s\tremaining: 1.06s\n",
      "60:\tlearn: 0.9376839\ttotal: 1.32s\tremaining: 846ms\n",
      "70:\tlearn: 0.8911410\ttotal: 1.56s\tremaining: 637ms\n",
      "80:\tlearn: 0.8414095\ttotal: 1.78s\tremaining: 417ms\n",
      "90:\tlearn: 0.8122649\ttotal: 2s\tremaining: 198ms\n",
      "99:\tlearn: 0.7860317\ttotal: 2.19s\tremaining: 0us\n"
     ]
    }
   ],
   "source": [
    "regressor.fit(x_train_reg,y_train_reg)\n",
    "y_pred_reg = regressor.predict(x_test_reg)"
   ]
  },
  {
   "cell_type": "code",
   "execution_count": 66,
   "metadata": {},
   "outputs": [
    {
     "name": "stdout",
     "output_type": "stream",
     "text": [
      "Mean Squared Error for Regression: 0.9310\n"
     ]
    }
   ],
   "source": [
    "# evaluate the model\n",
    "reg_mse = mean_squared_error(y_test_reg, y_pred_reg)\n",
    "print(f\"Mean Squared Error for Regression: {reg_mse:.4f}\")"
   ]
  },
  {
   "cell_type": "code",
   "execution_count": 67,
   "metadata": {},
   "outputs": [
    {
     "name": "stdout",
     "output_type": "stream",
     "text": [
      "0:\tlearn: 0.9971321\ttotal: 24.6ms\tremaining: 2.44s\n",
      "10:\tlearn: 0.5757861\ttotal: 265ms\tremaining: 2.14s\n",
      "20:\tlearn: 0.4301107\ttotal: 493ms\tremaining: 1.85s\n",
      "30:\tlearn: 0.3585641\ttotal: 741ms\tremaining: 1.65s\n",
      "40:\tlearn: 0.3256181\ttotal: 978ms\tremaining: 1.41s\n",
      "50:\tlearn: 0.2963946\ttotal: 1.27s\tremaining: 1.22s\n",
      "60:\tlearn: 0.2741160\ttotal: 1.56s\tremaining: 998ms\n",
      "70:\tlearn: 0.2510543\ttotal: 1.85s\tremaining: 756ms\n",
      "80:\tlearn: 0.2331046\ttotal: 2.11s\tremaining: 494ms\n",
      "90:\tlearn: 0.2167725\ttotal: 2.35s\tremaining: 232ms\n",
      "99:\tlearn: 0.2039461\ttotal: 2.58s\tremaining: 0us\n"
     ]
    }
   ],
   "source": [
    "# Train the catboost classifier\n",
    "classifier = CatBoostClassifier(\n",
    "    iterations=100, \n",
    "    learning_rate=0.1, \n",
    "    depth=6, \n",
    "    cat_features=cat_feature_indices, \n",
    "    verbose=10\n",
    ")\n",
    "classifier.fit(x_train_clf, y_train_clf)\n",
    "y_pred_clf = classifier.predict(x_test_clf)"
   ]
  },
  {
   "cell_type": "code",
   "execution_count": 70,
   "metadata": {},
   "outputs": [
    {
     "name": "stdout",
     "output_type": "stream",
     "text": [
      "Mean Squared Error for Regression: 0.1328\n"
     ]
    }
   ],
   "source": [
    "# evaluate the model\n",
    "clf_mse = mean_squared_error(y_test_clf, y_pred_clf)\n",
    "print(f\"Mean Squared Error for Regression: {clf_mse:.4f}\")"
   ]
  },
  {
   "cell_type": "code",
   "execution_count": null,
   "metadata": {},
   "outputs": [],
   "source": []
  }
 ],
 "metadata": {
  "kernelspec": {
   "display_name": "Python 3",
   "language": "python",
   "name": "python3"
  },
  "language_info": {
   "codemirror_mode": {
    "name": "ipython",
    "version": 3
   },
   "file_extension": ".py",
   "mimetype": "text/x-python",
   "name": "python",
   "nbconvert_exporter": "python",
   "pygments_lexer": "ipython3",
   "version": "3.12.9"
  }
 },
 "nbformat": 4,
 "nbformat_minor": 2
}
