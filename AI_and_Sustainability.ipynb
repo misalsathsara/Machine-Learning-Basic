{
  "nbformat": 4,
  "nbformat_minor": 0,
  "metadata": {
    "colab": {
      "provenance": []
    },
    "kernelspec": {
      "name": "python3",
      "display_name": "Python 3"
    },
    "language_info": {
      "name": "python"
    }
  },
  "cells": [
    {
      "cell_type": "code",
      "execution_count": null,
      "metadata": {
        "colab": {
          "base_uri": "https://localhost:8080/"
        },
        "id": "mMGjB0lNJJQy",
        "outputId": "c3d1f5ea-b2f0-4422-b990-d2eb7324f7df"
      },
      "outputs": [
        {
          "output_type": "execute_result",
          "data": {
            "text/plain": [
              "5"
            ]
          },
          "metadata": {},
          "execution_count": 1
        }
      ],
      "source": [
        "5"
      ]
    },
    {
      "cell_type": "code",
      "source": [
        "type (5)"
      ],
      "metadata": {
        "colab": {
          "base_uri": "https://localhost:8080/"
        },
        "id": "J76kaqJtJQtj",
        "outputId": "01b8d764-a9be-49a5-eeeb-d32d4d5318a0"
      },
      "execution_count": null,
      "outputs": [
        {
          "output_type": "execute_result",
          "data": {
            "text/plain": [
              "int"
            ]
          },
          "metadata": {},
          "execution_count": 2
        }
      ]
    },
    {
      "cell_type": "code",
      "source": [
        "type (5.88)"
      ],
      "metadata": {
        "colab": {
          "base_uri": "https://localhost:8080/"
        },
        "id": "CPbZsfsAJTej",
        "outputId": "d45cf16a-c6a1-48c3-8f95-7b9804f748df"
      },
      "execution_count": null,
      "outputs": [
        {
          "output_type": "execute_result",
          "data": {
            "text/plain": [
              "float"
            ]
          },
          "metadata": {},
          "execution_count": 3
        }
      ]
    },
    {
      "cell_type": "code",
      "source": [
        "'Dog'"
      ],
      "metadata": {
        "colab": {
          "base_uri": "https://localhost:8080/",
          "height": 36
        },
        "id": "ufOam2FdJVkU",
        "outputId": "652b37ef-6e03-40ac-98c8-0b0dcb4e04f2"
      },
      "execution_count": null,
      "outputs": [
        {
          "output_type": "execute_result",
          "data": {
            "text/plain": [
              "'Dog'"
            ],
            "application/vnd.google.colaboratory.intrinsic+json": {
              "type": "string"
            }
          },
          "metadata": {},
          "execution_count": 4
        }
      ]
    },
    {
      "cell_type": "code",
      "source": [
        "type (True)"
      ],
      "metadata": {
        "colab": {
          "base_uri": "https://localhost:8080/"
        },
        "id": "plbZvS_5JXi3",
        "outputId": "655622eb-f987-4b45-f7fa-6791c78a57c7"
      },
      "execution_count": null,
      "outputs": [
        {
          "output_type": "execute_result",
          "data": {
            "text/plain": [
              "bool"
            ]
          },
          "metadata": {},
          "execution_count": 5
        }
      ]
    },
    {
      "cell_type": "markdown",
      "source": [
        "**Data Structures in Python (Compound Type)**\n",
        "\n",
        "---\n",
        "\n"
      ],
      "metadata": {
        "id": "LHDnul3PJcQr"
      }
    },
    {
      "cell_type": "markdown",
      "source": [
        "\"'List tuple Set Dictionary'\""
      ],
      "metadata": {
        "id": "eySjtyT9J4Go"
      }
    },
    {
      "cell_type": "code",
      "source": [
        "a = [1, 2, 3, 4, 5, 6, 7, 8] # we hv defined the List under the variable a"
      ],
      "metadata": {
        "id": "eUo-2KiyJkvp"
      },
      "execution_count": null,
      "outputs": []
    },
    {
      "cell_type": "code",
      "source": [
        "print(a)"
      ],
      "metadata": {
        "colab": {
          "base_uri": "https://localhost:8080/"
        },
        "id": "ZLFBw0tlKP-L",
        "outputId": "2d749ef6-1eee-4eb2-fe07-dca83baeecbd"
      },
      "execution_count": null,
      "outputs": [
        {
          "output_type": "stream",
          "name": "stdout",
          "text": [
            "[1, 2, 3, 4, 5, 6, 7, 8]\n"
          ]
        }
      ]
    },
    {
      "cell_type": "code",
      "source": [
        "a[0] # accessing index values of the List. Starting from 0"
      ],
      "metadata": {
        "colab": {
          "base_uri": "https://localhost:8080/"
        },
        "id": "5lApQ5dsKSMp",
        "outputId": "a5333006-7bec-49f4-d411-e5930939afbc"
      },
      "execution_count": null,
      "outputs": [
        {
          "output_type": "execute_result",
          "data": {
            "text/plain": [
              "1"
            ]
          },
          "metadata": {},
          "execution_count": 9
        }
      ]
    },
    {
      "cell_type": "code",
      "source": [
        "a[2:]"
      ],
      "metadata": {
        "colab": {
          "base_uri": "https://localhost:8080/"
        },
        "id": "PIB39sG9KWGb",
        "outputId": "bba25932-845d-42c0-abf5-0bc136384684"
      },
      "execution_count": null,
      "outputs": [
        {
          "output_type": "execute_result",
          "data": {
            "text/plain": [
              "[3, 4, 5, 6, 7, 8]"
            ]
          },
          "metadata": {},
          "execution_count": 10
        }
      ]
    },
    {
      "cell_type": "code",
      "source": [
        "[1,2.55,'Cat']"
      ],
      "metadata": {
        "colab": {
          "base_uri": "https://localhost:8080/"
        },
        "id": "vVM-QFNiKieT",
        "outputId": "d8714360-a972-41da-b9f4-7f698e8799ce"
      },
      "execution_count": null,
      "outputs": [
        {
          "output_type": "execute_result",
          "data": {
            "text/plain": [
              "[1, 2.55, 'Cat']"
            ]
          },
          "metadata": {},
          "execution_count": 11
        }
      ]
    },
    {
      "cell_type": "markdown",
      "source": [
        "Dictionary"
      ],
      "metadata": {
        "id": "MHdyEtQALdMs"
      }
    },
    {
      "cell_type": "code",
      "source": [
        "{'a':1, 'b':2, 'c':3, 'd':4}"
      ],
      "metadata": {
        "colab": {
          "base_uri": "https://localhost:8080/"
        },
        "id": "tfvHbb-rLa2r",
        "outputId": "998761ee-af09-4dbc-aa2d-84f5407b7ae3"
      },
      "execution_count": null,
      "outputs": [
        {
          "output_type": "execute_result",
          "data": {
            "text/plain": [
              "{'a': 1, 'b': 2, 'c': 3, 'd': 4}"
            ]
          },
          "metadata": {},
          "execution_count": 12
        }
      ]
    },
    {
      "cell_type": "markdown",
      "source": [
        "Variables"
      ],
      "metadata": {
        "id": "G5r8H-o0L0Y1"
      }
    },
    {
      "cell_type": "code",
      "source": [
        "a=10\n",
        "b=20"
      ],
      "metadata": {
        "id": "rAL4qqz7Lwa0"
      },
      "execution_count": null,
      "outputs": []
    },
    {
      "cell_type": "markdown",
      "source": [
        "Arrays"
      ],
      "metadata": {
        "id": "4L0uXvx_MUJF"
      }
    },
    {
      "cell_type": "code",
      "source": [
        "d=[1,2,3,4,5,6]"
      ],
      "metadata": {
        "id": "b9KFqhmTMaNI"
      },
      "execution_count": null,
      "outputs": []
    },
    {
      "cell_type": "code",
      "source": [
        "d.append(100)"
      ],
      "metadata": {
        "id": "BSNsyRNqL8vM"
      },
      "execution_count": null,
      "outputs": []
    },
    {
      "cell_type": "code",
      "source": [
        "print(d)"
      ],
      "metadata": {
        "colab": {
          "base_uri": "https://localhost:8080/"
        },
        "id": "XBvSN0lbMX2E",
        "outputId": "42766692-42d2-4561-e9a7-7d52210643dd"
      },
      "execution_count": null,
      "outputs": [
        {
          "output_type": "stream",
          "name": "stdout",
          "text": [
            "[1, 2, 3, 4, 5, 6, 100]\n"
          ]
        }
      ]
    },
    {
      "cell_type": "code",
      "source": [
        "d.remove(6)"
      ],
      "metadata": {
        "id": "khFzIixYMh3n"
      },
      "execution_count": null,
      "outputs": []
    },
    {
      "cell_type": "code",
      "source": [
        "print(d)"
      ],
      "metadata": {
        "colab": {
          "base_uri": "https://localhost:8080/"
        },
        "id": "YvqnkG8oMlKk",
        "outputId": "d468ae11-32bc-4f08-c39a-5a6772e280ca"
      },
      "execution_count": null,
      "outputs": [
        {
          "output_type": "stream",
          "name": "stdout",
          "text": [
            "[1, 2, 3, 4, 5, 100]\n"
          ]
        }
      ]
    },
    {
      "cell_type": "code",
      "source": [
        "d.extend([200,300,400])"
      ],
      "metadata": {
        "id": "WAfa093eMpQp"
      },
      "execution_count": null,
      "outputs": []
    },
    {
      "cell_type": "code",
      "source": [
        "d"
      ],
      "metadata": {
        "colab": {
          "base_uri": "https://localhost:8080/"
        },
        "id": "FJFfdo5qMtmU",
        "outputId": "103b0930-f730-4aef-f08d-7745391e7fc4"
      },
      "execution_count": null,
      "outputs": [
        {
          "output_type": "execute_result",
          "data": {
            "text/plain": [
              "[1, 2, 3, 4, 5, 100, 200, 300, 400]"
            ]
          },
          "metadata": {},
          "execution_count": 22
        }
      ]
    },
    {
      "cell_type": "markdown",
      "source": [
        "Flow Control Structure (How a Programme is made)"
      ],
      "metadata": {
        "id": "c4bYY_SmMwQo"
      }
    },
    {
      "cell_type": "code",
      "source": [
        "# 1. Sequential - Flow control Structure"
      ],
      "metadata": {
        "id": "KDxdHIGdMuse"
      },
      "execution_count": null,
      "outputs": []
    },
    {
      "cell_type": "code",
      "source": [
        "x = 5\n",
        "y = 10\n",
        "z = x + y\n",
        "print(z)"
      ],
      "metadata": {
        "colab": {
          "base_uri": "https://localhost:8080/"
        },
        "id": "XdFctpHTM-q6",
        "outputId": "f9e6e01e-6836-41d9-80e3-322cbfecf7f9"
      },
      "execution_count": null,
      "outputs": [
        {
          "output_type": "stream",
          "name": "stdout",
          "text": [
            "15\n"
          ]
        }
      ]
    },
    {
      "cell_type": "code",
      "source": [
        "# 2. Selection - Flow COntroll Structure\n",
        "#(where we have to make some decisions based on condition)"
      ],
      "metadata": {
        "id": "WkZPpa16NHsr"
      },
      "execution_count": null,
      "outputs": []
    },
    {
      "cell_type": "code",
      "source": [
        "x = 5\n",
        "if x >= 10:\n",
        "  print(x)"
      ],
      "metadata": {
        "id": "98cyoVPpNOXu"
      },
      "execution_count": null,
      "outputs": []
    },
    {
      "cell_type": "code",
      "source": [
        "x = 5\n",
        "if x >= 10:\n",
        "  print('pass')\n",
        "else:\n",
        "  print('fail')"
      ],
      "metadata": {
        "colab": {
          "base_uri": "https://localhost:8080/"
        },
        "id": "YOsssIkkNccd",
        "outputId": "6b3ee04b-7aac-402b-cb57-dee97689c3a6"
      },
      "execution_count": null,
      "outputs": [
        {
          "output_type": "stream",
          "name": "stdout",
          "text": [
            "fail\n"
          ]
        }
      ]
    },
    {
      "cell_type": "markdown",
      "source": [
        "Exe 2: Check if a year is a leap year:"
      ],
      "metadata": {
        "id": "hu4LlU8jN_QW"
      }
    },
    {
      "cell_type": "code",
      "source": [
        "year = 2022\n",
        "\n",
        "if year % 4 == 0:\n",
        "  print('Leap Year')\n",
        "else:\n",
        "  print('Not a Leap Year')"
      ],
      "metadata": {
        "colab": {
          "base_uri": "https://localhost:8080/"
        },
        "id": "niohfCKFN7m5",
        "outputId": "9b0564b0-b433-40c4-c6c6-85e67f580f8c"
      },
      "execution_count": null,
      "outputs": [
        {
          "output_type": "stream",
          "name": "stdout",
          "text": [
            "Not a Leap Year\n"
          ]
        }
      ]
    },
    {
      "cell_type": "markdown",
      "source": [
        "**Selection with multiple inputs**"
      ],
      "metadata": {
        "id": "IR5Zgru8O5de"
      }
    },
    {
      "cell_type": "code",
      "source": [
        "m = 35\n",
        "\n",
        "if m >= 75:\n",
        "  grade = 'A'\n",
        "elif m >= 65:\n",
        "  grade = 'B'\n",
        "elif m >= 55:\n",
        "  grade = 'C'\n",
        "else:\n",
        "  grade = 'F'\n",
        "\n",
        "print(grade)\n",
        "\n",
        "# nested if condition"
      ],
      "metadata": {
        "colab": {
          "base_uri": "https://localhost:8080/"
        },
        "id": "4VpV9rbROex1",
        "outputId": "29168a38-0a52-4602-bb99-dba9b8b6739f"
      },
      "execution_count": null,
      "outputs": [
        {
          "output_type": "stream",
          "name": "stdout",
          "text": [
            "F\n"
          ]
        }
      ]
    },
    {
      "cell_type": "markdown",
      "source": [
        "Exe 3: Write a program to check if a number is positive, negative or zero"
      ],
      "metadata": {
        "id": "BBu9010lPwBL"
      }
    },
    {
      "cell_type": "code",
      "source": [
        "number = 5\n",
        "\n",
        "if number > 0:\n",
        "  print('Positive')\n",
        "elif number < 0:\n",
        "  print('Negative')\n",
        "else:\n",
        "  print('Zero')"
      ],
      "metadata": {
        "colab": {
          "base_uri": "https://localhost:8080/"
        },
        "id": "0yyjriU9Prcc",
        "outputId": "37d634d1-351e-4d0d-91f9-31af4a64f802"
      },
      "execution_count": null,
      "outputs": [
        {
          "output_type": "stream",
          "name": "stdout",
          "text": [
            "Positive\n"
          ]
        }
      ]
    },
    {
      "cell_type": "code",
      "source": [
        "# 3. Repetition/Loop - Flow control Structure"
      ],
      "metadata": {
        "id": "oPDRuN7RP-uj"
      },
      "execution_count": null,
      "outputs": []
    },
    {
      "cell_type": "code",
      "source": [
        "L = [10,20,30,40,50,60,70,80,90,100]"
      ],
      "metadata": {
        "id": "pVrI-a8CQm0X"
      },
      "execution_count": null,
      "outputs": []
    },
    {
      "cell_type": "code",
      "source": [
        "for x in L:\n",
        "  print(x)"
      ],
      "metadata": {
        "colab": {
          "base_uri": "https://localhost:8080/"
        },
        "id": "U1B5WkJyQwxm",
        "outputId": "f0b5bb40-c69a-4829-e41d-13303d1f8bcf"
      },
      "execution_count": null,
      "outputs": [
        {
          "output_type": "stream",
          "name": "stdout",
          "text": [
            "10\n",
            "20\n",
            "30\n",
            "40\n",
            "50\n",
            "60\n",
            "70\n",
            "80\n",
            "90\n",
            "100\n"
          ]
        }
      ]
    },
    {
      "cell_type": "code",
      "source": [
        "for x in L:\n",
        "  print(2*x)"
      ],
      "metadata": {
        "colab": {
          "base_uri": "https://localhost:8080/"
        },
        "id": "WFV-gYOoQyth",
        "outputId": "e839c3fd-129e-4bd5-e8c4-b3050c320840"
      },
      "execution_count": null,
      "outputs": [
        {
          "output_type": "stream",
          "name": "stdout",
          "text": [
            "20\n",
            "40\n",
            "60\n",
            "80\n",
            "100\n",
            "120\n",
            "140\n",
            "160\n",
            "180\n",
            "200\n"
          ]
        }
      ]
    },
    {
      "cell_type": "code",
      "source": [
        "x = 10\n",
        "while x <= 20: #while loop\n",
        "  print(x)\n",
        "  x = x + 1"
      ],
      "metadata": {
        "colab": {
          "base_uri": "https://localhost:8080/"
        },
        "id": "SJFtozfRQ5Gp",
        "outputId": "08d4517d-8911-49c3-dca0-baec9ae18cf5"
      },
      "execution_count": null,
      "outputs": [
        {
          "output_type": "stream",
          "name": "stdout",
          "text": [
            "10\n",
            "11\n",
            "12\n",
            "13\n",
            "14\n",
            "15\n",
            "16\n",
            "17\n",
            "18\n",
            "19\n",
            "20\n"
          ]
        }
      ]
    },
    {
      "cell_type": "markdown",
      "source": [
        "Working with Random"
      ],
      "metadata": {
        "id": "A7-XzHg4Rq4L"
      }
    },
    {
      "cell_type": "code",
      "source": [
        "import random #first you have to import random module\n",
        "print(random.random()) #Genarate Random numbers"
      ],
      "metadata": {
        "colab": {
          "base_uri": "https://localhost:8080/"
        },
        "id": "Pjx4RYq6Q_kz",
        "outputId": "729cef3d-0e32-4bd0-c799-f62bc83aa3c0"
      },
      "execution_count": null,
      "outputs": [
        {
          "output_type": "stream",
          "name": "stdout",
          "text": [
            "0.38414735344097284\n"
          ]
        }
      ]
    },
    {
      "cell_type": "code",
      "source": [
        "print(random.uniform(5, 10))\n",
        "#random.uniform(a,b) : Returns a random float between a and b."
      ],
      "metadata": {
        "colab": {
          "base_uri": "https://localhost:8080/"
        },
        "id": "JlkK5DbaR5-J",
        "outputId": "c2dd0638-0233-4639-c31b-d9c40de7a72c"
      },
      "execution_count": null,
      "outputs": [
        {
          "output_type": "stream",
          "name": "stdout",
          "text": [
            "7.013579357460977\n"
          ]
        }
      ]
    },
    {
      "cell_type": "code",
      "source": [
        "print(random.randint(1, 6)) #random.randint(a,b)\n",
        "#Returns a random integer between a and b (inclusive).Simulates a dice roll"
      ],
      "metadata": {
        "colab": {
          "base_uri": "https://localhost:8080/"
        },
        "id": "nxy68EOOSMsm",
        "outputId": "a06343b8-6f81-4275-b8e5-6eb296fa56f8"
      },
      "execution_count": null,
      "outputs": [
        {
          "output_type": "stream",
          "name": "stdout",
          "text": [
            "6\n"
          ]
        }
      ]
    },
    {
      "cell_type": "code",
      "source": [
        "print(random.randrange(1,10,2))\n",
        "#random.randrage(start, stop[,step]):\n",
        "#returns a randomly selected element from range (start, stop, step)"
      ],
      "metadata": {
        "colab": {
          "base_uri": "https://localhost:8080/"
        },
        "id": "bsdvn819SS65",
        "outputId": "ec43f3ce-04d9-4ffa-a526-7f5316417fef"
      },
      "execution_count": null,
      "outputs": [
        {
          "output_type": "stream",
          "name": "stdout",
          "text": [
            "5\n"
          ]
        }
      ]
    },
    {
      "cell_type": "code",
      "source": [
        "colors = ['red', 'blue', 'green']\n",
        "print(random.choice(colors))\n",
        "#random.choice(seq): Returns a random element from the non-empty sequence"
      ],
      "metadata": {
        "colab": {
          "base_uri": "https://localhost:8080/"
        },
        "id": "5nRMFBHgTKHT",
        "outputId": "1ef36877-c5e6-4f17-bc59-50681995efc3"
      },
      "execution_count": null,
      "outputs": [
        {
          "output_type": "stream",
          "name": "stdout",
          "text": [
            "green\n"
          ]
        }
      ]
    },
    {
      "cell_type": "code",
      "source": [
        "deck = [1,2,3,4,5]\n",
        "random.shuffle(deck)\n",
        "print(deck) #random.shuffle(x): shuffles the sequence in place."
      ],
      "metadata": {
        "colab": {
          "base_uri": "https://localhost:8080/"
        },
        "id": "jwzYLmx8TYzu",
        "outputId": "dd656977-9445-41fc-e435-df73e2b8bd5b"
      },
      "execution_count": null,
      "outputs": [
        {
          "output_type": "stream",
          "name": "stdout",
          "text": [
            "[5, 4, 3, 2, 1]\n"
          ]
        }
      ]
    },
    {
      "cell_type": "markdown",
      "source": [
        "Exe 4: Implement a number guessing game"
      ],
      "metadata": {
        "id": "JrI9-AEyToZY"
      }
    },
    {
      "cell_type": "code",
      "source": [
        "import random\n",
        "\n",
        "number = random.randint(1, 10)\n",
        "guess = int(input('Guess a number between 1 and 10: '))\n",
        "\n",
        "while guess != number:\n",
        "  if number == guess:\n",
        "    print('Correct!')\n",
        "  else:\n",
        "    print('Incorrect!')\n",
        "  guess = int(input('Guess a number between 1 and 10: '))\n",
        "print('Hoorey... You are Correct!')"
      ],
      "metadata": {
        "colab": {
          "base_uri": "https://localhost:8080/"
        },
        "id": "JMWe0RzlUEiK",
        "outputId": "0963e4d4-3f54-4668-d163-2eafda1ce5ff"
      },
      "execution_count": null,
      "outputs": [
        {
          "output_type": "stream",
          "name": "stdout",
          "text": [
            "Guess a number between 1 and 10: 2\n",
            "Incorrect!\n",
            "Guess a number between 1 and 10: 1\n",
            "Incorrect!\n",
            "Guess a number between 1 and 10: 3\n",
            "Hoorey... You are Correct!\n"
          ]
        }
      ]
    },
    {
      "cell_type": "code",
      "source": [],
      "metadata": {
        "id": "qchgbODEUYQq"
      },
      "execution_count": null,
      "outputs": []
    }
  ]
}